{
 "cells": [
  {
   "cell_type": "markdown",
   "metadata": {},
   "source": [
    "# Introduction to *'Introduction to Python for Data Science'*\n",
    "\n",
    "**Introduction to Python for Data Science** is a series of lessons designed to equip you with a basic understanding of the parts of the Python programming language and the associated software libraries that are commonly used by data scientists.  \n",
    "\n",
    "![](assets/pydata_logos.png)"
   ]
  },
  {
   "cell_type": "markdown",
   "metadata": {},
   "source": [
    "## What is Python?\n",
    "\n",
    "Python, like the other languages [R](https://www.r-project.org/) and [MATLAB](http://uk.mathworks.com/products/matlab/), is currently very popular for data science work, but unlike those languages it is also a powerful general purpose programming language so is well suited to very different activities such as creating dynamic websites and bioinformatics.  It is named after [*Monty Python*](https://en.wikipedia.org/wiki/Monty_Python), a surreal comedy group (see [this clip](https://www.youtube.com/watch?v=kQFKtI6gn9Y) for a classic Monty Python sketch).\n",
    "\n",
    "Here are some reasons why Python is extensively used by data scientists:\n",
    "\n",
    "* **Readable** and **concise**: some simple Python programs can be understood by non-programmers\n",
    "* **Accessible**: Python is often taught as a first programming language yet it is also...\n",
    "* **Powerful**: has various features that allow for the development of large programs\n",
    "* **Well established**: created in 1991; its associated data science packages are also fairly mature\n",
    "* **Consistent and well-designed** language: some would argue that this is not the case for R\n",
    "* **Free** and **open-source** (unlike MATLAB)\n",
    "* **Many software packages available**, including libraries for handling/plotting numerical data and for statistics/machine learning, plus many general purpose and specialist libraries (83269 freely available via the [Python Package Index (PyPI)](https://pypi.python.org/) as of 2016-06-27)\n",
    "* Can provide **accessible interfaces** to very **fast, efficient software** written in compiled languages (like C, C++ and Fortran) (useful for data science)"
   ]
  },
  {
   "cell_type": "markdown",
   "metadata": {
    "collapsed": true
   },
   "source": [
    "## Learning outcomes\n",
    "\n",
    "**TODO: INTRO SENTENCE**\n",
    "\n",
    "* 00 - Introduction\n",
    "    1. Jupyter and the IPython kernel for exploring code interactively within a Notebook\n",
    "* 01 - First steps\n",
    "    1. Arithmetic, expressions and assignment\n",
    "    2. Numpy for loading and manipulating n-dimensional arrays of data\n",
    "    3. Missing data\n",
    "    4. Plotting\n",
    "   \n",
    "\n",
    "**TODO: FINISH THE ABOVE USING PREVIOUS SYLLABUS BELOW**\n",
    "\n",
    "\n",
    "1. A glorified **calculator**\n",
    "    * Arithmetic\n",
    "    * Built-in types\n",
    "    * Precision (true and visible, floating point error, rounding)\n",
    "    * Expressions and assignment statements\n",
    "    * Jupyter notebook structure, state and control\n",
    "    * Converting between temperature units\n",
    "2. Basic of automation: **collections** and **control**\n",
    "    * `list`s e.g. sequence of values from a sensor\n",
    "        * Attributes and key operations\n",
    "        * Plotting `list`s\n",
    "        * Iterating over a `list`\n",
    "            * Quantifying and visualising performance\n",
    "    * `dict`ionaries\n",
    "        * Attributes and key operations\n",
    "    * Nested structures (inc to/from JSON for interesting example)\n",
    "    * Other data structures: `set`s, `tuple`s (brief)\n",
    "    * More control\n",
    "        * conditionals\n",
    "        * loops (inc. `range`s, skipping steps and leaving early)\n",
    "    * Comprehensions\n",
    "3. Parcelling up reusable chunks of code as **functions**\n",
    "    * Example and motivation\n",
    "    * Useful terminology (call, return, argument, parameters, scope)\n",
    "    * Positional, named and default arguments\n",
    "    * Mapping over collections\n",
    "    * Introducing core library functions inc. how to find signatures and docstrings\n",
    "    * Documenting\n",
    "    * Testing: assert, py.test, hypothesis\n",
    "    * Higher-order functions\n",
    "4. Parcelling up state information and associated operations as **Objects**\n",
    "    * Example and motivation; note that only going to be covered briefly here\n",
    "    * Class vs object distinction; method vs function distinction\n",
    "    * Instantiation, retrieving information, setting information \n",
    "    * References vs copies - source of confusion\n",
    "    * How to get info on classes and class methods (signatures, docstrings)\n",
    "5. Contorting **strings** of characters\n",
    "    * Common string methods\n",
    "    * Basic file IO\n",
    "    * Basic web API access\n",
    "6. Fast and concise numerical computation: **arrays** (plus **plotting**)\n",
    "    * What are the characteristics of the datasets encountered by data scientists?\n",
    "    * Quantify performance differences between `list`s and `ndarray`s\n",
    "    * More general introduction to `ndarrays`\n",
    "        * attributes\n",
    "        * similarity to data structures in other languages\n",
    "        * methods\n",
    "        * instantiating (`ones`, `zeros`, `empty`, `arange`, `linspace`)\n",
    "        * vector functions inc math ops\n",
    "        * indexing (simple vs fancy), slicing\n",
    "        * reshaping, stacking, splitting\n",
    "        * Limited support for heterogeneously-typed rows and labelled data\n",
    "    * Vectorized code: a different way of solving problems\n",
    "    * Views vs copies (source of confusion; updating in-place)\n",
    "    * Missing data\n",
    "    * File IO\n",
    "    * Plots\n",
    "        * line\n",
    "        * aesthetics\n",
    "        * scatter\n",
    "        * histogram\n",
    "7. Carrying contextual information around with your arrays: **Series** and **Dataframes**\n",
    "    * Example and motivation\n",
    "    * Introduction to `Dataframe`s and `Series` (row and column indexes)\n",
    "        * Attributes\n",
    "        * similarity to data structures in other languages\n",
    "        * reindexing\n",
    "    * Views vs copies (source of confusion; updating in-place)\n",
    "    * Groupings\n",
    "    * Time-series\n",
    "    * Basic interaction with databases\n",
    "8. Talking to other languages\n",
    "    * rpy2\n",
    "    * matlab\n",
    "9. **Running Python elsewhere**\n",
    "    * Jupyter on Iceberg\n",
    "    * conda \n",
    "    * Python scripts\n",
    "    * Setting up and using Python on \n",
    "        * on your own machine\n",
    "        * on Iceberg\n",
    "    * Finding and installing packages\n",
    "10. Additional exercises\n",
    "\n",
    "**INTEGRATE THROUGHOUT**\n",
    "\n",
    "* Comments on things that work differently in Python 2\n",
    "* Introduce core libraries\n",
    "    * `os.path`\n",
    "    * `datetime`\n",
    "    * `json`\n",
    "    * `sys` for command-line arguments\n",
    "    * Optional: `itertools`, `functools`\n",
    "\n",
    "\n",
    "**TODO: EXPLAIN THAT TOP DOWN, NOT BOTTOM UP, TO ENSURE GET TO DOING SOMETHING INTERESTING/USEFUL QUICKLY; MEANS THAT MAY NOT ALWAYS UNDERSTAND EVERY PRESENTED LINE OF CODE AT FIRST**"
   ]
  },
  {
   "cell_type": "markdown",
   "metadata": {},
   "source": [
    "## Course format and support\n",
    "\n",
    "Each of the lessons in this course (including this introduction) is what is called a **Jupyter Notebook**.  These note contain explanatory text but also can provide an environment for interactively viewing, editing and running code, enabling you to **learn by doing/experimenting**.  \n",
    "\n",
    "You are invited to work through these lessons independently and at your own pace.  \n",
    "\n",
    "If you are at a **[Code Cafe](http://www.walkingrandomly.com/?p=5981) event** (an informal workshop hosted on University of Sheffield premises) then **instructors will be on hand** to help you.  Also, we have an **interactive discussion notebook** ([https://v.etherpad.org/p/code_cafe](https://v.etherpad.org/p/code_cafe)) where you can ask questions and make comments.  **TODO: CREATE NEW ETHERPAD**\n",
    "\n",
    "If you are **working remotely by yourself** then ... **TODO: FEEDBACK MECHANISM FOR DISTANCE LEARNERS (SMC, ETHERPAD, MAILING LIST, GOOGLE GROUP, GH ISSUES?). EXPLAIN IN SIMPLE TERMS WHAT PROVIDED.**"
   ]
  },
  {
   "cell_type": "markdown",
   "metadata": {},
   "source": [
    "The first step is to ensure that you are viewing these Notebooks in a way where you can **interact** with them (as opposed to viewing a non-editable static snapshot of a Notebook on a site such as [github](https://github.com) or [nbviewer](https://nbviewer.jupyter.org/)).  You have several options for viewing/editing/running Notebooks:\n",
    "\n",
    "1. View/edit/run Notebooks using the [Sage Math Cloud](www.sagemath.com/) (SMC) service.  If you have been instructed to use SMC then all you need to get started are a SMC account, copies of the course materials in your account and a web browser for accessing SMC.  A more detailed guide to getting started with SMC will be provided separately.  **TODO: ENSURE THIS IS AVAILABLE.  MENTION FEATURES/PAYMENT**\n",
    "1. View/edit/run Notebooks entirely on your own machine.  You may wish to start by trying Jupyter using Sage Math Cloud as then you do not need spend time installing and configuring software on your own machine.  **TODO: PROVIDE GUIDE?**\n",
    "1. **TODO: MENTION ICEBERG OR MANAGED DESKTOP HERE OR LATER ON?**\n",
    "\n",
    "**Please open this Notebook usign SMC or Jupyter running on your own machine (if you have not done so already) before continuing.**\n",
    "\n",
    "**TODO: CLEAR ENOUGH?**"
   ]
  },
  {
   "cell_type": "markdown",
   "metadata": {},
   "source": [
    "## Jupyter basics\n",
    "\n",
    "### What is a Notebook?\n",
    "\n",
    "Each Jupyter Notebook is a document comprised of a sequence of **cells**.  A cell can contain formatted text (as this one does) or some lines of runnable code (like the cell below).  Code cells can generate output, which here is the single value produced by the last line of code but could be a table or a graph.  **Try it:** Click on the following cell (or use the cursor keys) to highlight it then press Shift-Enter to run it:"
   ]
  },
  {
   "cell_type": "code",
   "execution_count": 12,
   "metadata": {
    "collapsed": false
   },
   "outputs": [
    {
     "data": {
      "text/plain": [
       "0.78539825"
      ]
     },
     "execution_count": 12,
     "metadata": {},
     "output_type": "execute_result"
    }
   ],
   "source": [
    "pi = 3.141593\n",
    "radius = 0.5\n",
    "area = pi * radius * radius\n",
    "area"
   ]
  },
  {
   "cell_type": "markdown",
   "metadata": {},
   "source": [
    "Ignore the details of how this Python code produced a result for now; this is simply a demonstration of how  Jupyter Notebooks work.\n",
    "\n",
    "You can create cells and run code cells **in any order you like** and the values you create in one cell will be available when you next run a cell, allowing you to **interactively explore code/data over time**.  Run the following cell to see how we still have access to the value associated with `area`:"
   ]
  },
  {
   "cell_type": "code",
   "execution_count": 9,
   "metadata": {
    "collapsed": false
   },
   "outputs": [
    {
     "data": {
      "text/plain": [
       "1.5707965"
      ]
     },
     "execution_count": 9,
     "metadata": {},
     "output_type": "execute_result"
    }
   ],
   "source": [
    "area * 2"
   ]
  },
  {
   "cell_type": "markdown",
   "metadata": {},
   "source": [
    "You can think of a Notebook as being a little like an Excel spreadsheet containing just a single column, the key differences being that \n",
    "\n",
    "* You have to **explicitly re-run cells after changing them**;\n",
    "* The 'formulae' **(code) in Notebook cells is never hidden**, making them much easier to read."
   ]
  },
  {
   "cell_type": "markdown",
   "metadata": {},
   "source": [
    "### Editing cells\n",
    "\n",
    "To **edit code cells**, click inside them or press enter when they are surrounded by a blue border.  **Try this**: Edit the code cell above, replace `2` with another number then re-run the cell.\n",
    "\n",
    "You can edit text cells in the same way.  Text formatting effects are achieved by writing [Markdown[(https://daringfireball.net/projects/markdown/) in these cells rather than just plain text.  **Try it**: double-click within this cell to see how Markdown was used to denote headings, bold text, links...\n",
    "\n",
    "* and\n",
    "* bulletted\n",
    "* lists.\n",
    "\n",
    "Run the cell to render it as attractive HTML.  \n",
    "\n",
    "See the 'Edit', 'Insert' and 'Cell' menus directly above the Notebook for **further ways of manipulating cells**.  Also, note that there are **keyboard shortcuts** for most Notebook actions (see the 'Help' menu)."
   ]
  },
  {
   "cell_type": "markdown",
   "metadata": {},
   "source": [
    "### Jupyter vs Python vs IPython\n",
    "\n",
    "You may be wondering what is happening behind the scenes and how Jupyter relates to Python.  In brief:\n",
    "    \n",
    "* Juypter is **server software** that allows anyone with a **web browser** to **connect** and **view/edit/run** Notebooks.  The server software could be running on the same machine as the web browser and could possibly be running on a different machine such as [Sage Math Cloud](www.sagemath.com/) (as might be the case for you) or a supercomputer.  Therefore no Python software *needs* to be installed on the same machine as the web browser if connecting to a remote Jupyter server.\n",
    "* Jupyter does not execute the contents of code cells itself; it sends them to some software (called a kernel) that understands a specific programming language.  Here we are using the **IPython kernel**, which allows chunks of Python code to be run interactively over time.  \n",
    "\n",
    "Knowing more about Jupyter and IPython is not important at this stage; however, it it useful to have a little understanding of what these pieces of software are and how they fit together.\n",
    "\n",
    "A brief note on **restarting the kernel** associated with a particular Notebook: if you want to forget all the values you have created in memory since first running a code cell in a Notebook then click 'Kernel' -> 'Restart'.  *This only erases the kernel's working memory; it does not change the code/text in the Notebook's cells.*"
   ]
  },
  {
   "cell_type": "markdown",
   "metadata": {},
   "source": [
    "### Notebook setup cells"
   ]
  },
  {
   "cell_type": "markdown",
   "metadata": {},
   "source": [
    "Most lessons contain a 'setup' code cell.  You need to run this before running any other code cells and you should not edit it nor do you need to focus on trying to understand its contents.  Please run the following setup cell."
   ]
  },
  {
   "cell_type": "code",
   "execution_count": 2,
   "metadata": {
    "collapsed": true
   },
   "outputs": [],
   "source": [
    "__ = 0\n",
    "from numpy.testing import assert_equal\n",
    "from codecs import decode"
   ]
  },
  {
   "cell_type": "markdown",
   "metadata": {},
   "source": [
    "## Course exercises\n",
    "\n",
    "There are exercises throughout the lessons to help confirm your understanding of different concepts.  These are **not externally assessed** and are entirely for your own benefit / learning.  The exercises typically require you to write/alter some code so that a statement is true.  \n",
    "\n",
    "For example, **replace '`__`'  in the following cell with a number so that the mathematical expressions before and after the comma** (within the brackets) **are exactly equal**."
   ]
  },
  {
   "cell_type": "code",
   "execution_count": 3,
   "metadata": {
    "collapsed": false
   },
   "outputs": [
    {
     "ename": "AssertionError",
     "evalue": "\nItems are not equal:\n ACTUAL: 0\n DESIRED: 24",
     "output_type": "error",
     "traceback": [
      "\u001b[0;31m---------------------------------------------------------------------------\u001b[0m",
      "\u001b[0;31mAssertionError\u001b[0m                            Traceback (most recent call last)",
      "\u001b[0;32m<ipython-input-3-2179de3edc86>\u001b[0m in \u001b[0;36m<module>\u001b[0;34m()\u001b[0m\n\u001b[0;32m----> 1\u001b[0;31m \u001b[0massert_equal\u001b[0m\u001b[0;34m(\u001b[0m\u001b[0m__\u001b[0m\u001b[0;34m,\u001b[0m \u001b[0;36m6\u001b[0m \u001b[0;34m+\u001b[0m \u001b[0;36m18\u001b[0m\u001b[0;34m)\u001b[0m\u001b[0;34m\u001b[0m\u001b[0m\n\u001b[0m",
      "\u001b[0;32m/home/will/miniconda3/envs/gulabgir/lib/python3.5/site-packages/numpy/testing/utils.py\u001b[0m in \u001b[0;36massert_equal\u001b[0;34m(actual, desired, err_msg, verbose)\u001b[0m\n\u001b[1;32m    377\u001b[0m     \u001b[0;31m# Explicitly use __eq__ for comparison, ticket #2552\u001b[0m\u001b[0;34m\u001b[0m\u001b[0;34m\u001b[0m\u001b[0m\n\u001b[1;32m    378\u001b[0m     \u001b[0;32mif\u001b[0m \u001b[0;32mnot\u001b[0m \u001b[0;34m(\u001b[0m\u001b[0mdesired\u001b[0m \u001b[0;34m==\u001b[0m \u001b[0mactual\u001b[0m\u001b[0;34m)\u001b[0m\u001b[0;34m:\u001b[0m\u001b[0;34m\u001b[0m\u001b[0m\n\u001b[0;32m--> 379\u001b[0;31m         \u001b[0;32mraise\u001b[0m \u001b[0mAssertionError\u001b[0m\u001b[0;34m(\u001b[0m\u001b[0mmsg\u001b[0m\u001b[0;34m)\u001b[0m\u001b[0;34m\u001b[0m\u001b[0m\n\u001b[0m\u001b[1;32m    380\u001b[0m \u001b[0;34m\u001b[0m\u001b[0m\n\u001b[1;32m    381\u001b[0m \u001b[0;32mdef\u001b[0m \u001b[0mprint_assert_equal\u001b[0m\u001b[0;34m(\u001b[0m\u001b[0mtest_string\u001b[0m\u001b[0;34m,\u001b[0m \u001b[0mactual\u001b[0m\u001b[0;34m,\u001b[0m \u001b[0mdesired\u001b[0m\u001b[0;34m)\u001b[0m\u001b[0;34m:\u001b[0m\u001b[0;34m\u001b[0m\u001b[0m\n",
      "\u001b[0;31mAssertionError\u001b[0m: \nItems are not equal:\n ACTUAL: 0\n DESIRED: 24"
     ]
    }
   ],
   "source": [
    "assert_equal(__, 6 + 18)"
   ]
  },
  {
   "cell_type": "markdown",
   "metadata": {},
   "source": [
    "Next, edit that cell and change the number you entered to a different number then re-run the cell so see what happens when the expressions either side of the comma are not equal."
   ]
  },
  {
   "cell_type": "markdown",
   "metadata": {},
   "source": [
    "Certain exercises come with **hints** to help you.  However, these have been encoded using a simple cypher called **[rot13](https://en.wikipedia.org/wiki/ROT13)**, so you have to **explicitly decode them** if you think you need them.  \n",
    "\n",
    "For example, say that your hint is the following ROT13-encoded string of characters: \n",
    "\n",
    "`'Gel zhygvcylvat ol guerr orsber lbh qb nalguvat ryfr'`\n",
    "\n",
    "You can decode this hint in a code cell like this:"
   ]
  },
  {
   "cell_type": "code",
   "execution_count": 19,
   "metadata": {
    "collapsed": false
   },
   "outputs": [
    {
     "data": {
      "text/plain": [
       "'Try multiplying by three before you do anything else'"
      ]
     },
     "execution_count": 19,
     "metadata": {},
     "output_type": "execute_result"
    }
   ],
   "source": [
    "decode('Gel zhygvcylvat ol guerr orsber lbh qb nalguvat ryfr', 'rot13')"
   ]
  },
  {
   "cell_type": "markdown",
   "metadata": {},
   "source": [
    "---\n",
    "\n",
    "## Next, start [lesson 01: First steps with Python](01-First_steps.ipynb)"
   ]
  }
 ],
 "metadata": {
  "kernelspec": {
   "display_name": "Python 3",
   "language": "python",
   "name": "python3"
  },
  "language_info": {
   "codemirror_mode": {
    "name": "ipython",
    "version": 3
   },
   "file_extension": ".py",
   "mimetype": "text/x-python",
   "name": "python",
   "nbconvert_exporter": "python",
   "pygments_lexer": "ipython3",
   "version": "3.5.2"
  }
 },
 "nbformat": 4,
 "nbformat_minor": 0
}
