{
 "cells": [
  {
   "cell_type": "markdown",
   "metadata": {},
   "source": [
    "# Introduction to Python for Data science: 04 - Plotting data\n",
    "\n",
    "This is designed to be a self-directed study session where you work through the material at your own pace. If you are at a Code Cafe event, instructors will be on hand to help you.\n",
    "\n",
    "If you haven't done so already please read through the **[Introduction](./00-Introduction.ipynb)** to this course, which covers:\n",
    "\n",
    "  1. **What Python is** and **why it is of interest**;\n",
    "  1. **Learning outcomes** for the course; \n",
    "  1. The course **structure** and **support facilities**;\n",
    "  1. An introduction to **Jupyter Notebooks**;\n",
    "  1. Information on course **exercises**.\n",
    "\n",
    "This lesson covers:\n",
    "\n",
    "<!-- * [Lesson setup code](#Lesson-setup-code) -->\n",
    "  \n",
    "  * [Plotting data using Matplotlib](#Plotting-data-using-Matplotlib)\n",
    "      * [Histograms](#Histograms)\n",
    "          * [Tip: commenting code](#Tip:-commenting-code)\n",
    "\n",
    "\n",
    "# TODO: FINISH TOC"
   ]
  },
  {
   "cell_type": "markdown",
   "metadata": {},
   "source": [
    "## Lesson setup code\n",
    "\n",
    "Run the following Notebook cell *every time* you load this lesson (*but do not edit it*).  Don't be concerned with what this code does at this stage."
   ]
  },
  {
   "cell_type": "code",
   "execution_count": null,
   "metadata": {
    "collapsed": false
   },
   "outputs": [],
   "source": [
    "____ = 0\n",
    "import os\n",
    "import numpy as np\n",
    "from codecs import decode\n",
    "from numpy.testing import assert_almost_equal, assert_array_equal\n",
    "\n",
    "data_dir = 'Weather_data'\n",
    "csv_path = os.path.join(data_dir, 'Devonshire_Green_meteorological_data-preproc.csv')\n",
    "\n",
    "dev_green = np.genfromtxt(csv_path, delimiter=',', skip_header=1)"
   ]
  },
  {
   "cell_type": "markdown",
   "metadata": {},
   "source": [
    "## Plotting data using Matplotlib\n",
    "\n",
    "Knowing how to extract portions of our dataset is essential for **visualising** our data by **creating plots**.  Some plots we may want to produce include:\n",
    "\n",
    "* a **histogram** showing the distribution of a particular variable (column)\n",
    "* a **scatter plot** showing the distribution of two variables (i.e. how they *covary*)\n",
    "* a **line plot** showing how a variable changes over time\n",
    "\n",
    "In Python plots are typically created using the versatile and powerful **[Matplotlib](http://matplotlib.org/)** library.  Other libraries also offer plotting functionality but these often use Matplotlib behind the scenes.\n",
    "\n",
    "### Histograms\n",
    "\n",
    "Here's how we can create a histogram of Ozone concentration:"
   ]
  },
  {
   "cell_type": "code",
   "execution_count": null,
   "metadata": {
    "collapsed": false
   },
   "outputs": [],
   "source": [
    "import matplotlib.pyplot as plt\n",
    "%matplotlib notebook\n",
    "\n",
    "(fig, axes) = plt.subplots(nrows=1, ncols=1)\n",
    "axes.hist(dev_green[~np.isnan(dev_green[:, 4]), 4])"
   ]
  },
  {
   "cell_type": "markdown",
   "metadata": {},
   "source": [
    "The 4 lines of code above do the following:\n",
    "\n",
    "1. Import the (necessary part of) the matplotlib package.\n",
    "1. Instruct `matplotlib` and `IPython` to display plots in the Notebook between cells rather than in an external window\n",
    "1. Create a new `Figure` (plot window) called `fig` containing a single `Axes` (subplot) object called `axes`.  \n",
    "1. `axes.hist` can **only plot histograms of data if the data does not contain NaN values**.  We therefore need  to\n",
    "    1. Extract the 5th column of the `dev_green` `ndarray`\n",
    "    1. Create a boolean array showing where values in this column are NaN\n",
    "    1. Negate this array\n",
    "    1. Use this to select only non-NaN Ozone values from the dataset\n",
    "    1. Pass the resulting ndarray as a single argument to the `hist` function associated with `axes`\n",
    "\n",
    "---\n",
    "\n",
    "#### Exercise\n",
    "\n",
    "Experiment with the buttons immediately below the displayed histogram to find out what they do.\n",
    "\n",
    "---"
   ]
  },
  {
   "cell_type": "markdown",
   "metadata": {},
   "source": [
    "Some further comments:\n",
    "\n",
    " 1. The third line of code demonstrates **multiple assignment**: rather than returning say a single number, `plt.subplots` instead returns a **tuple** (a particular type of sequence of things) of length 2 (a Figure object and an Axes object).  These two values are then assigned to two variables **at the same time**, which are enclosed in parentheses.  Being able to assign to multple variables at once in Python is very handy e.g. \n",
    "\n",
    "    ```python\n",
    "    (x_coord, y_coord) = (123456, 654321)\n",
    "    ```\n",
    "    \n",
    "    Just remember: multiple assignment requires that the thing(s) to the left and right of the equals sign must be sequence-like things with the same length.\n",
    "\n",
    " 1. Note that there are ways other than `plt.subplots` of creating new plots; however `plt.subplots` is preferred by the author as it can be used to create not just single subplots but grids (rows and/or columns of subplots) too.\n",
    " 1. You may have noticed that `hist` is associated with `axes`, which is a variable we created rather than a package.  Here `hist` is a special type of function called a **method**.  You can think of it as being a function that operates on `axes` *but also* uses the arguments supplied in parentheses.  What's really happening here will become clear at a later date when you learn about a style of programming called **Object Oriented programming**.\n",
    " \n",
    "We can make our plot more useful and attractive with a few refinements."
   ]
  },
  {
   "cell_type": "code",
   "execution_count": null,
   "metadata": {
    "collapsed": false
   },
   "outputs": [],
   "source": [
    "# Enable a Matplotlib visual style that looks better on-screen\n",
    "plt.style.use('ggplot')\n",
    "\n",
    "# Create a new Figure and Axes\n",
    "(fig, axes) = plt.subplots(nrows=1, ncols=1)\n",
    "\n",
    "# Isolate the data we wish to plot the distribution of.\n",
    "ozone_col_idx = 4\n",
    "is_ozone_not_nan = ~np.isnan(dev_green[:, ozone_col_idx])\n",
    "valid_ozone_data = dev_green[is_ozone_not_nan, ozone_col_idx]\n",
    "\n",
    "# Plot a histogram of this data\n",
    "# - using a larger number of bins (bands) than the default of 10\n",
    "# - for only a certain range of the data; here the range parameter \n",
    "#   must be a 'tuple' (a sequence of values in parentheses) comprised of \n",
    "#   a lower and upper bound.\n",
    "axes.hist(valid_ozone_data, bins=30, range=(0, 150))\n",
    "\n",
    "# Set the plot title\n",
    "axes.set_title('Distribution of Ozone at Devonshire Green weather station')\n",
    "# Set the x and y axis labels\n",
    "axes.set_xlabel('Concentration (micrograms per cubic m)')\n",
    "# Ensure the last line in the cell finishes with a semi-colon; this ensures that we don't get a \n",
    "axes.set_ylabel('Number of samples');"
   ]
  },
  {
   "cell_type": "markdown",
   "metadata": {},
   "source": [
    "---\n",
    "\n",
    "#### Tip: commenting code\n",
    "\n",
    "The above code cell contains several **comments**.  In Python, any characters to the right of a hash (`#`) sign (unless `#` is in quotes) are comments **ignored by the Python intepreter** (the mechanism that interprets and executes the code) - they are solely for the reader's benefit.\n",
    "\n",
    "Comments are a valuable means for reminding you and/or others how the software works\n",
    "and why it was implemented in a particular way.  You should **get in the habit of using comments throughout your code** (either **inline** after `#` characters in *any* Python code and/or, if using Jupyter Notebooks, in **text cells**). \n",
    "\n",
    "**Write comments that would help you regain an understanding of your code were you revisit it after a period of three months!**\n",
    "\n",
    "---"
   ]
  },
  {
   "cell_type": "markdown",
   "metadata": {},
   "source": [
    "We can also show multiple things on a single subplot e.g. overlaid histograms of temperature data for the months of July and  December:"
   ]
  },
  {
   "cell_type": "code",
   "execution_count": null,
   "metadata": {
    "collapsed": false
   },
   "outputs": [],
   "source": [
    "# No need to enable the 'ggplot' Matplotlib visual style as already active\n",
    "\n",
    "# Create a new Figure and Axes\n",
    "(fig, axes) = plt.subplots(nrows=1, ncols=1)\n",
    "\n",
    "# Isolate the data we wish to plot the distribution of.\n",
    "month_col_idx = 1\n",
    "temperature_col_idx = -1\n",
    "\n",
    "is_sample_from_july = dev_green[:, month_col_idx] == 7\n",
    "is_sample_from_december = dev_green[:, month_col_idx] == 12\n",
    "is_temperature_valid = ~np.isnan(dev_green[:, temperature_col_idx])\n",
    "\n",
    "valid_temperatures_july = dev_green[is_sample_from_july & is_temperature_valid, temperature_col_idx]\n",
    "valid_temperatures_december = dev_green[is_sample_from_december & is_temperature_valid, temperature_col_idx]\n",
    "\n",
    "# Plot a histogram of this data\n",
    "axes.hist(valid_temperatures_july, bins=30, label='July', alpha=0.5)\n",
    "axes.hist(valid_temperatures_december, bins=30, label='December', alpha=0.5)\n",
    "\n",
    "# Set the plot title\n",
    "axes.set_title('Distribution of modelled temperature (Devonshire Green weather station)')\n",
    "# Set the x and y axis labels\n",
    "axes.set_xlabel('Degrees centigrade')\n",
    "# Ensure the last line in the cell finishes with a semi-colon; this ensures that we don't get a \n",
    "axes.set_ylabel('Number of samples');\n",
    "# Add a legend\n",
    "axes.legend();"
   ]
  },
  {
   "cell_type": "markdown",
   "metadata": {},
   "source": [
    "#### Exercise\n",
    "\n",
    "Look at the above plot.  Identify the code that\n",
    "\n",
    "  * Selects valid temperature data for July and December from `dev_green`;\n",
    "      * Aside: What type of indexing is used here?  Are we creating copies of views of parts of `dev_green`?\n",
    "  * Associates a label with each plotted entity;\n",
    "  * Makes each histogram semi-transparent to ensure neither is obscured;\n",
    "  * Displays a key showing the mapping between the color and name of each plotted entity.\n",
    "  \n",
    "**Hint:**\n",
    "\n",
    "Va pbzchgre tencuvpf gur grez 'nycun' bsgra ersref gb gur qrterr bs genafcnerapl bs n cvkry/vzntr.\n",
    "\n",
    "---\n",
    "\n",
    "#### Exercise\n",
    "\n",
    "Create a plot showing the distribution of Ozone in January, April and August.\n",
    "\n",
    "---"
   ]
  },
  {
   "cell_type": "markdown",
   "metadata": {},
   "source": [
    "### LIne plots\n",
    "\n",
    "We might also want to look at how one or more variables in our dataset change over time.  We do this by:\n",
    "\n",
    "  * Again creating an object of type `Axes` using the `plt.subplots` function (we've again called our `Axes` object `axes`)\n",
    "  * Calling the `plot` method of our `axes` object, passing it a one-dimensional `ndarray` as an argument.  This array is the sequence of y-axis values that we wish to display.\n",
    "  \n",
    "Remember, as explained previously and briefly, a *method* is a type of function that operates on the thing it follows (and is separated from by a '`.`') plus the arguments passed to the method in parentheses."
   ]
  },
  {
   "cell_type": "code",
   "execution_count": null,
   "metadata": {
    "collapsed": false
   },
   "outputs": [],
   "source": [
    "(fig, axes) = plt.subplots(nrows=1, ncols=1)\n",
    "\n",
    "ozone_col_idx = 4\n",
    "axes.plot(dev_green[:, ozone_col_idx])"
   ]
  },
  {
   "cell_type": "markdown",
   "metadata": {},
   "source": [
    "It appears that Ozone wasn't recorded for some time during the studied monitoring period.\n",
    "\n",
    "You might be wondering what the x-axis coordinates (and the numbers along the x-axis) are.   The x-axis coordinates are simply the *indexes* of the array passed as an argument to the `plot` method i.e. a range from 0 to "
   ]
  },
  {
   "cell_type": "code",
   "execution_count": null,
   "metadata": {
    "collapsed": false
   },
   "outputs": [],
   "source": [
    "len(dev_green[:, ozone_col_idx])"
   ]
  },
  {
   "cell_type": "markdown",
   "metadata": {},
   "source": [
    "We can plot something more meaningful on the x axis by passing an array of x-axis coordinates as the first argument to `plot` and an array of y-axis coordinates as the second argument.  However, turning the first four columns (year, month, day and hour of the day) into a one-dimensional array that we can use for this purpose is beyond the scope of this lesson.\n",
    "\n",
    "Note that the `pandas` library has far better support for using dates and times as coordinates."
   ]
  },
  {
   "cell_type": "markdown",
   "metadata": {},
   "source": [
    "# NOTES BELOW"
   ]
  },
  {
   "cell_type": "code",
   "execution_count": null,
   "metadata": {
    "collapsed": false
   },
   "outputs": [],
   "source": [
    "dev_green[:, :4]"
   ]
  },
  {
   "cell_type": "code",
   "execution_count": null,
   "metadata": {
    "collapsed": false
   },
   "outputs": [],
   "source": [
    "ci = {\n",
    "    'Year': 0,\n",
    "    'Month': 1,\n",
    "    'Day': 2,\n",
    "    'Hour': 3,\n",
    "    'Ozone': 4,\n",
    "    'Nitric oxide': 5,\n",
    "    'Nitrogen dioxide': 6,\n",
    "    'Nitrogen oxides as nitrogen dioxide': 7,\n",
    "    'PM10 particulate matter': 8,\n",
    "    'Non-volatile PM10': 9,\n",
    "    'Volatile PM10': 10,\n",
    "    'PM2.5 particulate matter': 11,\n",
    "    'Non-volatile PM2.5': 12,\n",
    "    'Volatile PM2.5': 13,\n",
    "    'Modelled Wind Direction': 14,\n",
    "    'Modelled Wind Speed': 15,\n",
    "    'Modelled Temperature': 16\n",
    "}\n",
    "\n",
    "ci['Nitric oxide']"
   ]
  },
  {
   "cell_type": "code",
   "execution_count": null,
   "metadata": {
    "collapsed": false
   },
   "outputs": [],
   "source": [
    "def dateparts2datetime64(year, month, day, hour):\n",
    "    return np.datetime64(\"{:0>4}-{:0>2}-{:0>2}T{:0>2}:00:00\".format(year, month, day, hour))\n",
    "dateparts2datetime64_vectorized = np.vectorize(dateparts2datetime64)\n",
    "\n",
    "timestamps = dateparts2datetime64_vectorized(*dev_green[:, :4].T.astype(np.int))\n",
    "timestamps[:5]"
   ]
  },
  {
   "cell_type": "code",
   "execution_count": null,
   "metadata": {
    "collapsed": false
   },
   "outputs": [],
   "source": [
    "# Create a new Figure and Axes\n",
    "(fig, axes) = plt.subplots(nrows=1, ncols=1)\n",
    "\n",
    "\n",
    "\n",
    "axes.plot(dev_green[:, ci['Nitric oxide']], alpha=0.5)\n",
    "#axes.plot(timestamps, dev_green[:, 6], alpha=0.5)\n",
    "#axes.plot(timestamps, dev_green[:, 7], alpha=0.5)\n",
    "#"
   ]
  },
  {
   "cell_type": "markdown",
   "metadata": {},
   "source": [
    "### Scatter plots"
   ]
  },
  {
   "cell_type": "raw",
   "metadata": {
    "collapsed": false
   },
   "source": [
    "\n",
    "# SCATTER PLOT\n",
    "\n",
    "# NEED TO REMOVE NANS AGAIN?\n",
    "# WHICH METHOD MOST ELEGANT BUT ALSO IN KEEPING WITH WHAT PRESENTED SO FAR?\n",
    "\n",
    "## LINE PLOT\n",
    "#\n",
    "# NANS NOT MATTER HERE?\n",
    "# WHICH SERIES MOST INTERESTING?  TEMPERATURE?\n",
    "\n",
    "# LOOPING (USING LINE PLOTS)"
   ]
  }
 ],
 "metadata": {
  "kernelspec": {
   "display_name": "Python 3",
   "language": "python",
   "name": "python3"
  },
  "language_info": {
   "codemirror_mode": {
    "name": "ipython",
    "version": 3
   },
   "file_extension": ".py",
   "mimetype": "text/x-python",
   "name": "python",
   "nbconvert_exporter": "python",
   "pygments_lexer": "ipython3",
   "version": "3.5.2"
  }
 },
 "nbformat": 4,
 "nbformat_minor": 0
}
