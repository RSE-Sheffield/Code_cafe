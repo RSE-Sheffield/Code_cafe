{
 "cells": [
  {
   "cell_type": "markdown",
   "metadata": {},
   "source": [
    "# Introduction to Python for Data science: 03 - SOME TITLE\n",
    "\n",
    "This is designed to be a self-directed study session where you work through the material at your own pace. If you are at a Code Cafe event, instructors will be on hand to help you.\n",
    "\n",
    "If you haven't done so already please read through the **[Introduction](./00-Introduction.ipynb)** to this course, which covers:\n",
    "\n",
    "  1. **What Python is** and **why it is of interest**;\n",
    "  1. **Learning outcomes** for the course; \n",
    "  1. The course **structure** and **support facilities**;\n",
    "  1. An introduction to **Jupyter Notebooks**;\n",
    "  1. Information on course **exercises**.\n",
    "\n",
    "This lesson covers:\n",
    "\n",
    "<!-- * [Lesson setup code](#Lesson-setup-code) -->\n",
    "  \n",
    "  * [File paths and the current working directory](#File-paths-and-the-current-working-directory)\n",
    "  * [Advanced indexing](#Advanced-indexing)\n",
    "      * [Indexing-with-a-boolean-sequence](#Indexing-with-a-boolean-sequence)\n",
    "      * [Combining boolean arrays](#Combining-boolean-arrays)\n",
    "        * [Tip: vectorised code/operations](#Tip:-vectorised-code/operations)\n",
    "      * [Indexing with an integer sequence](#Indexing-with-an-integer-sequence)\n",
    "          * [Tip: Lists](#Tip:-Lists)\n",
    "  * [Mutating numpy arrays](#Mutating-numpy-arrays)\n",
    "  * [Plotting data using Matplotlib; commenting code](#Plotting-data-using-Matplotlib;-commenting-code)\n",
    "\n",
    "\n",
    "    \n",
    "\n",
    "\n",
    "# TODO: FINISH TOC"
   ]
  },
  {
   "cell_type": "markdown",
   "metadata": {},
   "source": [
    "## Lesson setup code\n",
    "\n",
    "Run the following Notebook cell *every time* you load this lesson (*but do not edit it*).  Don't be concerned with what this code does at this stage. "
   ]
  },
  {
   "cell_type": "code",
   "execution_count": null,
   "metadata": {
    "collapsed": false
   },
   "outputs": [],
   "source": [
    "____ = 0\n",
    "import os\n",
    "import numpy as np\n",
    "from codecs import decode\n",
    "from numpy.testing import assert_almost_equal, assert_array_equal\n",
    "from IPython.display import Image"
   ]
  },
  {
   "cell_type": "markdown",
   "metadata": {},
   "source": [
    "## File paths and the current working directory\n",
    "\n",
    "Before we move on to look more at what `numpy` can do for us let's first load the weather station data previously encountered in the [Lesson 02 Notebook](./02-numpy_basics.ipynb). This is necessary at the variables created in memory in one Notebook are not accessible in other Notebooks."
   ]
  },
  {
   "cell_type": "code",
   "execution_count": null,
   "metadata": {
    "collapsed": false
   },
   "outputs": [],
   "source": [
    "data_dir = 'Weather_data'\n",
    "csv_path = os.path.join(data_dir, 'Devonshire_Green_meteorological_data-preproc.csv')\n",
    "csv_path"
   ]
  },
  {
   "cell_type": "code",
   "execution_count": null,
   "metadata": {
    "collapsed": false
   },
   "outputs": [],
   "source": [
    "dev_green = np.genfromtxt(csv_path, \n",
    "                          delimiter=',', \n",
    "                          skip_header=1)"
   ]
  },
  {
   "cell_type": "markdown",
   "metadata": {},
   "source": [
    "Something not explicitly mentioned in [Lesson 02](./02-numpy_basics.ipynb) is **how Python finds the CSV file that we want to load**.  \n",
    "\n",
    "When we want Python to read from or write to a file we can provide it with \n",
    "\n",
    "* an **absolute path** (fully specifies where the file is in the filesystem) or \n",
    "* a **relative path** (specifies the file's location relative to a particular directory).  \n",
    "\n",
    "Here we construct a relative path the name of the file we want to read and the directory the file resides in.  This path is relative to Python's **current working directory**, which is currently the directory we started the Notebook session from.  This directory is:"
   ]
  },
  {
   "cell_type": "code",
   "execution_count": null,
   "metadata": {
    "collapsed": false
   },
   "outputs": [],
   "source": [
    "os.getcwd()"
   ]
  },
  {
   "cell_type": "markdown",
   "metadata": {},
   "source": [
    "The function `os.path.join` joins together directory name(s) and/or file name supplied as arguments to construct a path (of the 'string' type) by interspersing those arguments with the appropriate **path separator** character for the operating system.  The path separator character differs between Windows (`\\`) and OS X/Linux (`/`), so using `os.path.join` (rather than manually inserting `\\` or `/` characters into a long string) means that the same code can be run on any operating system.\n",
    "\n",
    "The `os` package includes many other useful functions for manipulating files/directories and `os.path` **module** (a component of `os`) contains functions for checking and manipulating paths.  \n",
    "\n",
    "---\n",
    "\n",
    "#### Exercise\n",
    "\n",
    "`Image` displays an image file in a Notebook.  It accepts a path to an image as an argument.  Use `Image` to display saved in the `assets` directory that contains an image relevant to the weather station dataset.  To determine the name of that image you will first need to list the contents of the `assets` directory.  An appropriate function is provided by the `os` module.  Write your code so that it will run on any operating system.\n",
    "\n",
    "---"
   ]
  },
  {
   "cell_type": "markdown",
   "metadata": {},
   "source": [
    "Before we move on here's a quick reminder of the column headings in the .csv file (don't worry about how this does what it does).  The order (specifically the indexes) of the column names will be useful for exercises later on."
   ]
  },
  {
   "cell_type": "code",
   "execution_count": null,
   "metadata": {
    "collapsed": false
   },
   "outputs": [],
   "source": [
    "with open(csv_path, 'r') as my_open_file:\n",
    "    for column_idx, column_name in enumerate(my_open_file.readline().split(',')):\n",
    "        print(column_idx, column_name)"
   ]
  },
  {
   "cell_type": "markdown",
   "metadata": {},
   "source": [
    "## Advanced indexing\n",
    "\n",
    "We have seen how we can extract portions of an `ndarray` when using:\n",
    "\n",
    "* single index values e.g `my_2d_array[5, 3]`;\n",
    "* a range of index values, possibly with e.g `my_2d_array[10:500:5, 3]` or `my_2d_array[275:300, -5:]`\n",
    "\n",
    "There are two other key ways of indexing `ndarray`s that we need to know about."
   ]
  },
  {
   "cell_type": "markdown",
   "metadata": {},
   "source": [
    "### Indexing with a boolean sequence \n",
    "\n",
    "We will often want to extract values from an `ndarray` (and create a new `ndarray`) where a condition is met e.g:\n",
    "\n",
    "* Select all values in the `Nitrogen dioxide` column greater than 10.0\n",
    "* Select all even values in an integer column that are greater than 0 and less than 100\n",
    "* Select all non-null values in the `Modelled Temperature` column\n",
    "* Select `Ozone` values where `Month` is May or September (i.e. select from one column based on a condition associated with another)\n",
    "\n",
    "This can be achieved by \n",
    "\n",
    "1. Creating a *boolean `ndarray`* (an array of True and False values) \n",
    "1. Use this an index to extract values from an array and create a new array (as opposed to indexing using the `start:end:range` notation used in [Lesson 02](02-numpy_basics.ipynb) for *basic indexing*)\n",
    "\n",
    "For example, we know from [Lesson 02](02-numpy_basics.ipynb) that we can determine if each element of an array is *not* NaN using the `isnan` function and the `numpy` negation operator `~` e.g. for the `Ozone` concentration column:"
   ]
  },
  {
   "cell_type": "code",
   "execution_count": null,
   "metadata": {
    "collapsed": false
   },
   "outputs": [],
   "source": [
    "~np.isnan(dev_green[:, 4])"
   ]
  },
  {
   "cell_type": "markdown",
   "metadata": {},
   "source": [
    "We can then extract only the non-null `Ozone` concentrations using this boolean array:"
   ]
  },
  {
   "cell_type": "code",
   "execution_count": null,
   "metadata": {
    "collapsed": false
   },
   "outputs": [],
   "source": [
    "dev_green[~np.isnan(dev_green[:, 4]), 4].shape"
   ]
  },
  {
   "cell_type": "markdown",
   "metadata": {},
   "source": [
    "which, as we might expect, contains fewer values that the original Ozone column:"
   ]
  },
  {
   "cell_type": "code",
   "execution_count": null,
   "metadata": {
    "collapsed": false
   },
   "outputs": [],
   "source": [
    "dev_green[:, 4].shape"
   ]
  },
  {
   "cell_type": "markdown",
   "metadata": {},
   "source": [
    "Don't worry if you do not immediately find the indexing expression particularly readable/comprehensible.  We could make it clearer by assigning both the (integer) column index and the created boolean arrays to variables with meaningful names:"
   ]
  },
  {
   "cell_type": "code",
   "execution_count": null,
   "metadata": {
    "collapsed": false
   },
   "outputs": [],
   "source": [
    "ozone_col_idx = 4\n",
    "\n",
    "is_ozone_not_null = ~np.isnan(dev_green[:, ozone_col_idx])\n",
    "\n",
    "dev_green[is_ozone_not_null, ozone_col_idx]"
   ]
  },
  {
   "cell_type": "markdown",
   "metadata": {},
   "source": [
    "Here we have:\n",
    "\n",
    "* Identified a column of interest\n",
    "* Determined whether all values in just that column are not null\n",
    "* Assigned the resulting boolean array to a variable\n",
    "* Create a new `ndarray` by using that boolean array to extract certain rows from just the column of interest in `dev_green`\n",
    "\n",
    "Let's look at another example.  Our objective in this case is to extract just the `Nitrogen dioxide` values for December.  Using numpy's `unique` function we can see that values in the `Month` column range from 1 to 12 (not 0 to 11), so December corresponds to 12:"
   ]
  },
  {
   "cell_type": "code",
   "execution_count": null,
   "metadata": {
    "collapsed": false
   },
   "outputs": [],
   "source": [
    "month_col_idx = 1\n",
    "\n",
    "np.unique(dev_green[:, month_col_idx])"
   ]
  },
  {
   "cell_type": "markdown",
   "metadata": {},
   "source": [
    "We can now \n",
    "\n",
    "* create a boolean index that specifies whether each air quality sample was taken in December\n",
    "* use that to index the Nitrogen dioxide column"
   ]
  },
  {
   "cell_type": "code",
   "execution_count": null,
   "metadata": {
    "collapsed": false
   },
   "outputs": [],
   "source": [
    "is_in_december = dev_green[:, month_col_idx] == 12\n",
    "\n",
    "nitr_diox_col_idx = 6\n",
    "\n",
    "dev_green[is_in_december, nitr_diox_col_idx].shape"
   ]
  },
  {
   "cell_type": "markdown",
   "metadata": {},
   "source": [
    "Again, note how assigning temporary values to variables makes our code more reable."
   ]
  },
  {
   "cell_type": "markdown",
   "metadata": {},
   "source": [
    "When creating boolean arrays for indexing (or other) purposes we can use any of Python's standard **comparrison operators** for testing for (in)equality and relative magnitude (some of which you will have already seen):\n",
    "\n",
    " * `==` ->  equals \n",
    " * `!=` -> not equals\n",
    " * `<` -> less than\n",
    " * `<=` -> less than or equal to\n",
    " * `>` -> greater than\n",
    " * `>=` -> greater than or equal to\n",
    "\n",
    "These can be used to compare \n",
    "\n",
    "* an array and a single value e.g. `my_array == 12` or\n",
    "* two arrays e.g. `some_array > another_array`.\n",
    "\n",
    "In the second case each pair of elements are compared.  The two arrays must be of the same size.  For example:"
   ]
  },
  {
   "cell_type": "code",
   "execution_count": null,
   "metadata": {
    "collapsed": false
   },
   "outputs": [],
   "source": [
    "some_array = np.array([1, 3, 5, 7])\n",
    "another_array = np.array([2, 9, 5, 1])\n",
    "\n",
    "some_array >= another_array"
   ]
  },
  {
   "cell_type": "markdown",
   "metadata": {},
   "source": [
    "---\n",
    "\n",
    "#### Exercise\n",
    "\n",
    "What is the highest Ozone value recorded in October, November or December (accurate to two decimal places)?\n",
    "\n",
    "**Hints:**\n",
    "\n",
    "* Juvpu bs gur fvk bcrengbef yvfgrq nobir nyybj lbh gb qvfgvathvfu gur inyhrf va gur `Zbagu` gung lbh ner vagrerfgrq va sebz gubfr gung lbh ner abg?\n",
    "* Jurer zvtug lbh ybbx sbe n shapgvba gung ergheaf gur uvturfg inyhr va na neenl?"
   ]
  },
  {
   "cell_type": "code",
   "execution_count": null,
   "metadata": {
    "collapsed": false
   },
   "outputs": [],
   "source": [
    "assert_almost_equal(____, 79.56, decimal=2)"
   ]
  },
  {
   "cell_type": "markdown",
   "metadata": {},
   "source": [
    "---\n",
    "\n",
    "### Combining boolean arrays\n",
    "\n",
    "One of the possible uses for boolean indexing given above was to *select `Ozone` values where `Month` is May or September*.  You should hopefully now see how we could create a boolean array for `Month` being 5 and another boolean array for `Month` being 9 but how do we combine them?\n",
    "\n",
    "There are several operators we can use for combining boolean `ndarrays`.  \n",
    "\n",
    "* `|` -> *or* (`|` is the *pipe* character)\n",
    "* `&` -> *and*\n",
    "* `~` -> *not* (i.e. negation; already encountered)\n",
    "\n",
    "With the first two operators, every corresponding pair of values from the two boolean input arrays are compared to generate a value in the boolean output array.  "
   ]
  },
  {
   "cell_type": "markdown",
   "metadata": {},
   "source": [
    "---\n",
    "\n",
    "#### Exercise\n",
    "\n",
    "How do the `|` and `&` boolean operators compare values?  First, let's generate two simple boolean arrays"
   ]
  },
  {
   "cell_type": "code",
   "execution_count": null,
   "metadata": {
    "collapsed": false
   },
   "outputs": [],
   "source": [
    "a = np.array([True, False, True, False])\n",
    "b = np.array([True, True, False, False])"
   ]
  },
  {
   "cell_type": "markdown",
   "metadata": {},
   "source": [
    "Now, evaluate each of the following expressions and look at how each pair of input elements (or single input element) relates to the corresponding output element.  \n",
    "\n",
    "* `a & b`\n",
    "* `b & a`\n",
    "* `a | b`\n",
    "* `b | a`\n",
    "* `~a`\n",
    "* `~b`"
   ]
  },
  {
   "cell_type": "markdown",
   "metadata": {},
   "source": [
    "Now let's assign two new boolean arrays to variables `a` and `b`:"
   ]
  },
  {
   "cell_type": "code",
   "execution_count": null,
   "metadata": {
    "collapsed": false
   },
   "outputs": [],
   "source": [
    "a = np.array([True, True, False, False, False])\n",
    "b = np.array([False, True, False, False, True])"
   ]
  },
  {
   "cell_type": "markdown",
   "metadata": {},
   "source": [
    "Given the results of evaluating the six expressions above can you predict what they will evaluate to now?  Check to see if your predictions are correct.\n",
    "\n",
    "---"
   ]
  },
  {
   "cell_type": "markdown",
   "metadata": {},
   "source": [
    "Let's return to the problem of selecting `Ozone` values where the `Month` is May or September.  We can solve this using the `|` operator by asking *select ozone samples where (corresponding month is May) or (corresponding month is September)* (parentheses added for emphasis):"
   ]
  },
  {
   "cell_type": "code",
   "execution_count": null,
   "metadata": {
    "collapsed": false
   },
   "outputs": [],
   "source": [
    "is_sample_from_may = dev_green[:, month_col_idx] == 5\n",
    "is_sample_from_sept = dev_green[:, month_col_idx] == 9\n",
    "is_relevant_sample = is_sample_from_may | is_sample_from_sept\n",
    "dev_green[is_relevant_sample, ozone_col_idx].shape"
   ]
  },
  {
   "cell_type": "markdown",
   "metadata": {},
   "source": [
    "We can write that in a more concise form using fewer variables but note that we now need to wrap arguments to the `|` operator to be valid:"
   ]
  },
  {
   "cell_type": "code",
   "execution_count": null,
   "metadata": {
    "collapsed": false
   },
   "outputs": [],
   "source": [
    "is_relevant_sample = (dev_green[:, month_col_idx] == 9) | (dev_green[:, month_col_idx] == 5)\n",
    "dev_green[is_relevant_sample, ozone_col_idx].shape"
   ]
  },
  {
   "cell_type": "markdown",
   "metadata": {},
   "source": [
    "---\n",
    "\n",
    "#### Exercise\n",
    "\n",
    "What is the mean `Volatile PM2.5` during the period May to August (inclusive) when Ozone is above average (above its mean value)?  Give the answer correct to two decimal places.\n",
    "\n",
    "**Hints:**\n",
    "\n",
    "* Lbh pna fryrpg fnzcyrf sebz gur enatr bs zbaguf lbh ner vagrerfgrq va ol pbzovavat gjb obbyrna neenlf.  Juvpu pbzcneevfba bcrengbef naq juvpu obbyrna neenl-pbzovavat bcrengbe qb lbh arrq gb qb guvf?\n",
    "* Gb vqragvsl fnzcyrf jurer bmbar pbapragengvba vf nobir gur zrna lbh svefg arrq gb pnyphyngr gung zrna.\n",
    "* Lbh hygvzngryl arrq gb pbzovar n obbyrna neenl gung fgngrf jurgure n fnzcyr jnf gnxra qhevat n eryrinag zbagu naq nabgure obbyrna neenl gung fgngrf jurgure bmbar rkprrqf n fcrpvsvrq inyhr.  Juvpu obbyrna neenl pbzovangvba bcrengbe qb lbh arrq sbe guvf?"
   ]
  },
  {
   "cell_type": "code",
   "execution_count": null,
   "metadata": {
    "collapsed": false
   },
   "outputs": [],
   "source": [
    "volatile_pm2_5_col_idx = -4\n",
    "\n",
    "\n",
    "\n",
    "assert_almost_equal(____, 2.00, decimal=2)"
   ]
  },
  {
   "cell_type": "markdown",
   "metadata": {},
   "source": [
    "---\n",
    "\n",
    "#### Tip: vectorised code/operations\n",
    "\n",
    "Indexing using boolean operations and joining together boolean arrays using operators such as `&` are examples of what are called **vectorised operations** or **vectorized code**.  This is where we use functions that operate on all elements of an array at once (e.g. `my_array[my_array > 4]` rather than us manually going through all elements of an array one by one, performing an operation on each in turn (although we will look at how to do this later on)\n",
    "\n",
    "Vectorized operations are used *a lot* in Python, R and Matlab by data scientists.  You will find that reading and writing expressions using vectorised operations becomes much easier over time."
   ]
  },
  {
   "cell_type": "markdown",
   "metadata": {
    "collapsed": false
   },
   "source": [
    "### Indexing with an integer sequence \n",
    "\n",
    "Another form of 'advanced indexing' in numpy is selecting non-contiguous values from an `ndarray` by indexing with a sequence of integers (as opposed to a range (`start:end:increment`) or boolean array).  Let's look at a quick example.  Say we have the following array:"
   ]
  },
  {
   "cell_type": "code",
   "execution_count": null,
   "metadata": {
    "collapsed": false
   },
   "outputs": [],
   "source": [
    "heights_of_people = np.array([183.0, 167.2, 171.9, 180.1, 159.9])"
   ]
  },
  {
   "cell_type": "markdown",
   "metadata": {},
   "source": [
    "We can extract the first three elements with the following familar notation:"
   ]
  },
  {
   "cell_type": "code",
   "execution_count": null,
   "metadata": {
    "collapsed": false
   },
   "outputs": [],
   "source": [
    "heights_of_people[:3]"
   ]
  },
  {
   "cell_type": "markdown",
   "metadata": {},
   "source": [
    "What if we want to select a non-contiguous set of values such as the first two and the last?  This is where we need to index with an integer sequence:"
   ]
  },
  {
   "cell_type": "code",
   "execution_count": null,
   "metadata": {
    "collapsed": false
   },
   "outputs": [],
   "source": [
    "heights_of_people[[0, 1, 4]]"
   ]
  },
  {
   "cell_type": "markdown",
   "metadata": {},
   "source": [
    "Here the expression `[0, 1, 4]` is a type of sequence is called a *list*.  \n",
    "\n",
    "---\n",
    "\n",
    "#### Tip: Lists\n",
    "\n",
    "Lists are the most common way in Python to store an ordered sequence of values (of any type).  They are built in to Python itself i.e. are not provided by an additional package like `numpy`).   Lists are very powerful and flexible but are not often used by data scientists for storing large datasets (with thousands or millions of elements) as they do not support vectorized operations (see above), only less computationally-efficient methods for querying/manipulating big datasets.\n",
    "\n",
    "**TODO:** ADD NOTE RE REVISITING LISTS LATER\n",
    "\n",
    "---\n",
    "\n",
    "Returning to indexing: we can mix and match \n",
    "\n",
    " * indexing with a single index value or a range\n",
    " * indexing with a boolean array\n",
    " * indexing with an integer sequence\n",
    " \n",
    "e.g. we could select elements from three specific rows in the first two columns of an array using:\n",
    "\n",
    "```python\n",
    "my_matrix[[1, 10, -1], :2]\n",
    "```\n",
    "\n",
    "or could select values from two specific columns, using a boolean array to select certain rows\n",
    "\n",
    "```python\n",
    "is_useful_row = another_matrix[:, 0] >= 33.3\n",
    "another_matrix[is_useful_row, [13, 47]]\n",
    "```"
   ]
  },
  {
   "cell_type": "code",
   "execution_count": null,
   "metadata": {
    "collapsed": false
   },
   "outputs": [],
   "source": [
    "np.nanpercentile(dev_green[:, 4], 50)"
   ]
  },
  {
   "cell_type": "markdown",
   "metadata": {},
   "source": [
    "---\n",
    "\n",
    "#### Exercise \n",
    "\n",
    "Create a new `ndarray` containing just the `Ozone` and `Modelled Temperature` for samples where the `Modelled Temperature` is greater than its median value.  You'll most likely need to use two types of indexing to achive this.  \n",
    "\n",
    "---"
   ]
  },
  {
   "cell_type": "markdown",
   "metadata": {},
   "source": [
    "## Mutating numpy arrays\n",
    "\n",
    "We don't always only want to query datasets; sometimes we want to make changes to them.  One may wish to:\n",
    "\n",
    " * Replace missing (NaN) values with a default value\n",
    " * Replace all values greater than a threshold with that threshold\n",
    " * Update specific values by applying a arithmetic operation e.g. to convert some data from imperial to metric units\n",
    " \n",
    "We saw in [Lesson 01](01-First_steps.ipynb) that after creating variables we can then assign new values to them.  An example of this could be:"
   ]
  },
  {
   "cell_type": "code",
   "execution_count": null,
   "metadata": {
    "collapsed": false
   },
   "outputs": [],
   "source": [
    "weights = np.array([1.2, 1.2, 1.2, 4.0])\n",
    "weights = np.array([2.0, 2.0, 1.9])"
   ]
  },
  {
   "cell_type": "markdown",
   "metadata": {},
   "source": [
    "Here we assign an `ndarray` to a variable then assigns another `ndarray` to that variable.  Python is then clever enough to recognise that the the array created by `np.array([1.2, 1.2, 1.2, 4.0])` is no longer associated with any variables so frees up the memory corresponding to this four-element array.\n",
    "\n",
    "However, if we want to change only part of an array we can \n",
    "\n",
    "1. Used one of the indexing methods we learned about previously to select a subset of elements\n",
    "1. Assign values to those elements: either \n",
    "    * assign a single value to all selected elements or \n",
    "    * assign an array of the same size/shape as the selected subset\n",
    "\n",
    "For example, if we want to change only the first two elements of a one-dimensional array:"
   ]
  },
  {
   "cell_type": "code",
   "execution_count": null,
   "metadata": {
    "collapsed": false
   },
   "outputs": [],
   "source": [
    "youtube_video_likes = np.array([1024, 999, 712, 34])\n",
    "youtube_video_likes[:2] = 1002\n",
    "youtube_video_likes"
   ]
  },
  {
   "cell_type": "markdown",
   "metadata": {},
   "source": [
    "Or we could assign using an array.  Below we are multiplying all elements of an array by a single value then assigning the result to part of another array:"
   ]
  },
  {
   "cell_type": "code",
   "execution_count": null,
   "metadata": {
    "collapsed": false
   },
   "outputs": [],
   "source": [
    "youtube_video_likes[2:] = np.array([736, 39]) * 2\n",
    "youtube_video_likes"
   ]
  },
  {
   "cell_type": "markdown",
   "metadata": {},
   "source": [
    "As mentioned, if we are assigning using an array then we need to make sure that the expression on the right-hand side of the equals sign has the same size/shape as the expression on the left-hand side:"
   ]
  },
  {
   "cell_type": "code",
   "execution_count": null,
   "metadata": {
    "collapsed": false
   },
   "outputs": [],
   "source": [
    "youtube_video_likes[2:] = np.array([740, 43, 29])"
   ]
  },
  {
   "cell_type": "markdown",
   "metadata": {},
   "source": [
    "---\n",
    "\n",
    "##### Exercise\n",
    "\n",
    "Increase the last 400 Ozone in `dev_green` by 2.6 to compensate for perceived sensor error, then find the new mean of all Ozone values (correct to 3 decimal places):"
   ]
  },
  {
   "cell_type": "code",
   "execution_count": null,
   "metadata": {
    "collapsed": false
   },
   "outputs": [],
   "source": [
    "\n",
    "\n",
    "assert_almost_equal(____, 45.262, decimal=3)"
   ]
  },
  {
   "cell_type": "markdown",
   "metadata": {},
   "source": [
    "---\n",
    "\n",
    "### Adding to / subtracting from the values of an array\n",
    "\n",
    "We've seen how we can set parts of arrays to specific values.  How can we add to or subtract from the values in part of or all of an array?\n",
    "\n",
    "A cumbersome way would be to feature the same expression on the left and right sides of the equals sign e.g.:"
   ]
  },
  {
   "cell_type": "code",
   "execution_count": null,
   "metadata": {
    "collapsed": false
   },
   "outputs": [],
   "source": [
    "youtube_video_likes[2:] = youtube_video_likes[2:] + 4\n",
    "youtube_video_likes"
   ]
  },
  {
   "cell_type": "markdown",
   "metadata": {},
   "source": [
    "There is a more concise way of doing this:"
   ]
  },
  {
   "cell_type": "code",
   "execution_count": null,
   "metadata": {
    "collapsed": false
   },
   "outputs": [],
   "source": [
    "youtube_video_likes[2:] += 4\n",
    "youtube_video_likes"
   ]
  },
  {
   "cell_type": "markdown",
   "metadata": {},
   "source": [
    "Here the  `+=` operator means: 'take the thing on the left, determine its value (which might be an array), add four to that value, then assign the result back to the thing on the left'.  There are also similar operators for \n",
    "\n",
    "  * subtraction: `-=`\n",
    "  * multiplication: `*=`\n",
    "  * division: `/=`\n",
    "\n",
    "**Warning:** this only works for mutating whole arrays and parts of arrays selected using basic indexing; it doesn't work for parts of arrays selected using boolean array indexing or integer sequence indexing.  We'll now see why."
   ]
  },
  {
   "cell_type": "markdown",
   "metadata": {},
   "source": [
    "### Create views or copies of arrays\n",
    "\n",
    "There's something that we need to be mindful of assigning to arrays.\n",
    "\n",
    "Say we assign to part of an array that we've indexed using the range notation (`start:end:increment`):"
   ]
  },
  {
   "cell_type": "code",
   "execution_count": null,
   "metadata": {
    "collapsed": false
   },
   "outputs": [],
   "source": [
    "tree_ages = np.array([34, 56, 60, 72.5, 86, 92])\n",
    "two_oldest_trees = tree_ages[-2:]\n",
    "two_oldest_trees "
   ]
  },
  {
   "cell_type": "code",
   "execution_count": null,
   "metadata": {
    "collapsed": false
   },
   "outputs": [],
   "source": [
    "two_oldest_trees += 5\n",
    "two_oldest_trees"
   ]
  },
  {
   "cell_type": "markdown",
   "metadata": {},
   "source": [
    "So the operation has increased the values in `two_oldest_trees` *but*..."
   ]
  },
  {
   "cell_type": "code",
   "execution_count": null,
   "metadata": {
    "collapsed": false
   },
   "outputs": [],
   "source": [
    "tree_ages"
   ]
  },
  {
   "cell_type": "markdown",
   "metadata": {},
   "source": [
    "...it has also affected `tree_ages`!  This is because **indexing using a single integer or range notation creates a *view* of part of an array.  Any changes to the view's elements are reflected in the array that the view was created from.**\n",
    "\n",
    "Let's look at a contrasting example.  "
   ]
  },
  {
   "cell_type": "code",
   "execution_count": null,
   "metadata": {
    "collapsed": false
   },
   "outputs": [],
   "source": [
    "tree_ages = np.array([34, 56, 60, 72.5, 86, 92])\n",
    "trees_older_than_59 = tree_ages[tree_ages > 59]\n",
    "trees_older_than_59 -= 4.2\n",
    "trees_older_than_59"
   ]
  },
  {
   "cell_type": "code",
   "execution_count": null,
   "metadata": {
    "collapsed": false
   },
   "outputs": [],
   "source": [
    "tree_ages"
   ]
  },
  {
   "cell_type": "markdown",
   "metadata": {},
   "source": [
    "So here `trees_older_than_59` was updated but `tree_ages` was not.  This is because **numpy's 'advanced indexing' (using boolean arrays and/or integer sequences) creates a *copy* of part of an array.  Any changes to the copy's elements are *not* reflected in the array the view was created from."
   ]
  },
  {
   "cell_type": "markdown",
   "metadata": {},
   "source": [
    "---\n",
    "\n",
    "#### Tip: Checking to see if an operation has returned a view or copy\n",
    "\n",
    "Forgetting or not knowing when an operation will return a view or copy of an array is a common source of bugs when using numpy!\n",
    "\n",
    "You can check to see whether you have created a view like this:"
   ]
  },
  {
   "cell_type": "code",
   "execution_count": null,
   "metadata": {
    "collapsed": false
   },
   "outputs": [],
   "source": [
    "tree_ages = np.array([34, 56, 60, 72.5, 86, 92])\n",
    "two_oldest_trees = tree_ages[-2:]\n",
    "\n",
    "two_oldest_trees.base is tree_ages"
   ]
  },
  {
   "cell_type": "markdown",
   "metadata": {},
   "source": [
    "If the third line evaluates to `False` instead then `two_oldest_trees` is not a view of part of `tree_ages`."
   ]
  },
  {
   "cell_type": "markdown",
   "metadata": {},
   "source": [
    "---\n",
    "\n",
    "#### Tip: forcing the creation of a copy\n",
    "\n",
    "If you want to definitely create a copy of an array (for example to experiment with making changes to a dataset whilst retaining a backup) then you can use numpy's `copy` function:"
   ]
  },
  {
   "cell_type": "code",
   "execution_count": null,
   "metadata": {
    "collapsed": false
   },
   "outputs": [],
   "source": [
    "tree_ages_backup = np.copy(tree_ages)"
   ]
  },
  {
   "cell_type": "markdown",
   "metadata": {},
   "source": [
    "---\n",
    "\n",
    "####  Exercise\n",
    "\n",
    "Precict which of the following expression return a view of part of `dev_green` and which return a copy, then use `expression.base is dev_green` (see above for why) to check your predictions:\n",
    "\n",
    "  * `dev_green[:, 4:]`\n",
    "  * `dev_green[:, [1, 4, 5]]`\n",
    "  * `dev_green[5:-5:2, 5::-1]`\n",
    "  * `dev_green[dev_green[:, 6] > np.nanmedian(dev_green[:, 7])]`\n",
    "  \n",
    "---"
   ]
  },
  {
   "cell_type": "markdown",
   "metadata": {},
   "source": [
    "## Plotting data using Matplotlib; commenting code\n",
    "\n",
    "Knowing how to extract portions of our dataset is essential for **visualising** our data by **creating plots**.  Some plots we may want to produce include:\n",
    "\n",
    "* a **histogram** showing the distribution of a particular variable (column)\n",
    "* a **scatter plot** showing the distribution of two variables (i.e. how they *covary*)\n",
    "* a **line plot** showing how a variable changes over time\n",
    "\n",
    "In Python plots are typically created using the versatile and powerful **[Matplotlib](http://matplotlib.org/)** library.  Other libraries also offer plotting functionality but these often use Matplotlib behind the scenes.\n",
    "\n",
    "Here's how we can create a histogram of Ozone concentration:"
   ]
  },
  {
   "cell_type": "code",
   "execution_count": null,
   "metadata": {
    "collapsed": false
   },
   "outputs": [],
   "source": [
    "import matplotlib.pyplot as plt\n",
    "%matplotlib notebook\n",
    "\n",
    "(fig, axes) = plt.subplots(nrows=1, ncols=1)\n",
    "axes.hist(dev_green[~np.isnan(dev_green[:, 4]), 4])"
   ]
  },
  {
   "cell_type": "markdown",
   "metadata": {},
   "source": [
    "The 4 lines of code above do the following:\n",
    "\n",
    "1. Import the (necessary part of) the matplotlib package.\n",
    "1. Instruct `matplotlib` and `IPython` to display plots in the Notebook between cells rather than in an external window\n",
    "1. Create a new `Figure` (plot window) called `fig` containing a single `Axes` (subplot) object called `axes`.  \n",
    "1. `axes.hist` can **only plot histograms of data if the data does not contain NaN values**.  We therefore need  to\n",
    "    1. Extract the 5th column of the `dev_green` `ndarray`\n",
    "    1. Create a boolean array showing where values in this column are NaN\n",
    "    1. Negate this array\n",
    "    1. Use this to select only non-NaN Ozone values from the dataset\n",
    "    1. Pass the resulting ndarray as a single argument to the `hist` function associated with `axes`\n",
    "\n",
    "---\n",
    "\n",
    "#### Exercise\n",
    "\n",
    "Experiment with the buttons immediately below the displayed histogram to find out what they do.\n",
    "\n",
    "---"
   ]
  },
  {
   "cell_type": "markdown",
   "metadata": {},
   "source": [
    "Some further comments:\n",
    "\n",
    " 1. The third line of code demonstrates **multiple assignment**: rather than returning say a single number, `plt.subplots` instead returns a **tuple** (a particular type of sequence of things) of length 2 (a Figure object and an Axes object).  These two values are then assigned to two variables **at the same time**, which are enclosed in parentheses.  Being able to assign to multple variables at once in Python is very handy e.g. \n",
    "\n",
    "    ```python\n",
    "    (x_coord, y_coord) = (123456, 654321)\n",
    "    ```\n",
    "    \n",
    "    Just remember: multiple assignment requires that the thing(s) to the left and right of the equals sign must be sequence-like things with the same length.\n",
    "\n",
    " 1. Note that there are ways other than `plt.subplots` of creating new plots; however `plt.subplots` is preferred by the author as it can be used to create not just single subplots but grids (rows and/or columns of subplots) too.\n",
    " 1. You may have noticed that `hist` is associated with `axes`, which is a variable we created rather than a package.  Here `hist` is a special type of function called a **method**.  You can think of it as being a function that operates on `axes` *but also* uses the arguments supplied in parentheses.  What's really happening here will become clear at a later date when you learn about a style of programming called **Object Oriented programming**.\n",
    " \n",
    "We can make our plot more useful and attractive with a few refinements."
   ]
  },
  {
   "cell_type": "code",
   "execution_count": null,
   "metadata": {
    "collapsed": false
   },
   "outputs": [],
   "source": [
    "# Enable a Matplotlib visual style that looks better on-screen\n",
    "plt.style.use('ggplot')\n",
    "\n",
    "# Create a new Figure and Axes\n",
    "(fig, axes) = plt.subplots(nrows=1, ncols=1)\n",
    "\n",
    "# Isolate the data we wish to plot the distribution of.\n",
    "ozone_col_idx = 4\n",
    "is_ozone_not_nan = ~np.isnan(dev_green[:, ozone_col_idx])\n",
    "valid_ozone_data = dev_green[is_ozone_not_nan, ozone_col_idx]\n",
    "\n",
    "# Plot a histogram of this data\n",
    "# - using a larger number of bins (bands) than the default of 10\n",
    "# - for only a certain range of the data; here the range parameter \n",
    "#   must be a 'tuple' (a sequence of values in parentheses) comprised of \n",
    "#   a lower and upper bound.\n",
    "axes.hist(valid_ozone_data, bins=30, range=(0, 150))\n",
    "\n",
    "# Set the plot title\n",
    "axes.set_title('Distribution of Ozone at Devonshire Green weather station')\n",
    "# Set the x and y axis labels\n",
    "axes.set_xlabel('Concentration (micrograms per cubic m)')\n",
    "# Ensure the last line in the cell finishes with a semi-colon; this ensures that we don't get a \n",
    "axes.set_ylabel('Number of samples');"
   ]
  },
  {
   "cell_type": "markdown",
   "metadata": {},
   "source": [
    "#### Tip: commenting code\n",
    "\n",
    "The above code cell contains several **comments**.  In Python, any characters to the right of a hash (`#`) sign (unless `#` is in quotes) are comments **ignored by the Python intepreter** (the mechanism that interprets and executes the code) - they are solely for the reader's benefit.\n",
    "\n",
    "Comments are a valuable means for reminding you and/or others how the software works\n",
    "and why it was implemented in a particular way.  You should **get in the habit of using comments throughout your code** (either **inline** after `#` characters in *any* Python code and/or, if using Jupyter Notebooks, in **text cells**). \n",
    "\n",
    "**Write comments that would help you regain an understanding of your code were you revisit it after a period of three months!**"
   ]
  },
  {
   "cell_type": "code",
   "execution_count": null,
   "metadata": {
    "collapsed": false
   },
   "outputs": [],
   "source": [
    "# SCATTER PLOT\n",
    "\n",
    "# NEED TO REMOVE NANS AGAIN?\n",
    "# WHICH METHOD MOST ELEGANT BUT ALSO IN KEEPING WITH WHAT PRESENTED SO FAR?\n",
    "\n",
    "## LINE PLOT\n",
    "#\n",
    "# NANS NOT MATTER HERE?\n",
    "# WHICH SERIES MOST INTERESTING?  TEMPERATURE?\n",
    "\n",
    "# LOOPING (USING LINE PLOTS)"
   ]
  }
 ],
 "metadata": {
  "kernelspec": {
   "display_name": "Python 3",
   "language": "python",
   "name": "python3"
  },
  "language_info": {
   "codemirror_mode": {
    "name": "ipython",
    "version": 3
   },
   "file_extension": ".py",
   "mimetype": "text/x-python",
   "name": "python",
   "nbconvert_exporter": "python",
   "pygments_lexer": "ipython3",
   "version": "3.5.2"
  }
 },
 "nbformat": 4,
 "nbformat_minor": 0
}
