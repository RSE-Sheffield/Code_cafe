{
 "cells": [
  {
   "cell_type": "code",
   "execution_count": null,
   "metadata": {
    "collapsed": false
   },
   "outputs": [],
   "source": [
    "# Introduction to Python for Data science: 01 - First steps\n",
    "\n",
    "This is designed to be a self-directed study session where you work through the material at your own pace. If you are at a Code Cafe event, instructors will be on hand to help you.\n",
    "\n",
    "If you haven't done so already please read through the **[Introduction](./00-Introduction.ipynb)** to this course, which covers:\n",
    "\n",
    "1. **What Python is** and **why it is of interest**;\n",
    "1. **Learning outcomes** for the course; \n",
    "1. The course **structure** and **support facilities**;\n",
    "1. An introduction to **Jupyter Notebooks**;\n",
    "1. Information on course **exercises**.\n",
    "\n",
    "This lesson covers:\n",
    "\n",
    "<!-- * [Lesson setup code](#Lesson-setup-code) -->\n",
    "* [Simple commands and calculations](#Simple-commands-and-calculations)\n",
    "* [Using maths functions from the numpy Python package](#Using-maths-functions-the-numpy-Python-package)\n",
    "* [Functions with named and optional arguments](#Functions-with-named-and-optional-arguments)\n",
    "* [Getting help](#Getting-help)\n",
    "* [Variables](#Variables)\n",
    "\n",
    "It will be useful to keep the **[Introduction](./00-Introduction.ipynb)**  material open in a separate tab whilst working on this session.\n",
    "\n",
    "\n",
    "**OLD BELOW**\n",
    "\n",
    "* [Plotting data](#Plotting-data)\n",
    "* [Packages](#Packages)\n",
    "* [The current working directory](#The-current-working-directory)\n",
    "* [Importing your own data](#Importing-your-own-data)\n",
    "* [Scripts](#Scripts)\n",
    "* [Further reading and next steps](#Further-reading-and-next-steps)\n",
    "* [Getting help NOTES](#Getting-help-NOTES)\n",
    "* [References](#References)"
   ]
  },
  {
   "cell_type": "markdown",
   "metadata": {},
   "source": [
    "## Lesson setup code\n",
    "\n",
    "Run the following Notebook cell *every time* you load this lesson (*but do not edit it*).  Don't be concerned with what this code does at this stage. \n",
    "\n",
    "**TODO: ENSURE NUMPY ALREADY INSTALLED AND AVAILABLE BY THIS POINT**"
   ]
  },
  {
   "cell_type": "code",
   "execution_count": null,
   "metadata": {
    "collapsed": false
   },
   "outputs": [],
   "source": [
    "____ = 0\n",
    "import os\n",
    "import numpy as np\n",
    "from codecs import decode\n",
    "from numpy.testing import assert_almost_equal, assert_array_equal"
   ]
  },
  {
   "cell_type": "markdown",
   "metadata": {},
   "source": [
    "## Simple commands and calculations\n",
    "\n",
    "Python is a command based system which means that you (usually) interact with it by entering commands rather than using a Graphical User Interface (GUI). Some of these commands are rather straightforward! For example, Python can be used to do arithmetic.  Run each cell in turn to evaluate the following expressions:"
   ]
  },
  {
   "cell_type": "code",
   "execution_count": null,
   "metadata": {
    "collapsed": false
   },
   "outputs": [],
   "source": [
    "1 + 1"
   ]
  },
  {
   "cell_type": "code",
   "execution_count": null,
   "metadata": {
    "collapsed": false
   },
   "outputs": [],
   "source": [
    "3 * 9"
   ]
  },
  {
   "cell_type": "code",
   "execution_count": null,
   "metadata": {
    "collapsed": false
   },
   "outputs": [],
   "source": [
    "377 / 120"
   ]
  },
  {
   "cell_type": "markdown",
   "metadata": {},
   "source": [
    "Power terms can be expressed using the `**` *operator* e.g. for $2^8$:"
   ]
  },
  {
   "cell_type": "code",
   "execution_count": null,
   "metadata": {
    "collapsed": false
   },
   "outputs": [],
   "source": [
    "2 ** 8"
   ]
  },
  {
   "cell_type": "markdown",
   "metadata": {},
   "source": [
    "For more complex expressions remember that some mathematical operations are [preferentially evaluated before others](https://en.wikipedia.org/wiki/Order_of_operations#Definition).\n",
    "\n",
    "Parentheses can be used to override that order of evaluation:"
   ]
  },
  {
   "cell_type": "code",
   "execution_count": null,
   "metadata": {
    "collapsed": false
   },
   "outputs": [],
   "source": [
    "31 * (365 - 30) / 10"
   ]
  },
  {
   "cell_type": "markdown",
   "metadata": {},
   "source": [
    "## Using maths functions from the `numpy` Python package\n",
    "\n",
    "As shown, support for basic arithmetic is built into Python itself but for other operations such as *sin*, *cos* and *log* we need to **import functions** for performing these operations from a Python **package**. A package is a collection of useful bits of code that we can reuse in many different programs.  Some packages come with Python itself, whilst others must be installed separately. \n",
    "\n",
    "Here we **import** the `numpy` package and use a **function** provided by the package to calculate the square root of `2`.  "
   ]
  },
  {
   "cell_type": "code",
   "execution_count": null,
   "metadata": {
    "collapsed": false
   },
   "outputs": [],
   "source": [
    "import numpy as np\n",
    "\n",
    "np.sqrt(2)"
   ]
  },
  {
   "cell_type": "markdown",
   "metadata": {},
   "source": [
    "(*Keen-eyed readers will notice that we previously executed the `import...` line above back in the first code cell in this Notebook.  It doesn't do any harm to repeat this here.*)\n",
    "\n",
    "This is the first time we've entered a **function** in Python so let's discuss some details. In the above, \n",
    "\n",
    "* the **function name** is `sqrt`, \n",
    "* the function is from the **`numpy` package** (here aliased as `np` for convenience) and\n",
    "* here the function is **called** (**evaluated**) with an **argument** of 2.  Function arguments are always enclosed in parentheses.\n",
    "\n",
    "The terms **call**, **evaluate** and **argument** are oft-used by programmers."
   ]
  },
  {
   "cell_type": "markdown",
   "metadata": {},
   "source": [
    "Python is **case sensitive**. For example, a valid function call is `np.sqrt(2)` with everything in lower case. Variations such as `np.Sqrt(2)` or `np.SQRT(2)` won't work (**try it in a new code cell below**)."
   ]
  },
  {
   "cell_type": "markdown",
   "metadata": {},
   "source": [
    "The `numpy` package also provides the standard trigonometry functions such as `sin`, `cos` and `tan`. These take their arguments in radians rather than degrees. As such, a right angle is  `pi/2` rather than 90. "
   ]
  },
  {
   "cell_type": "code",
   "execution_count": null,
   "metadata": {
    "collapsed": false
   },
   "outputs": [],
   "source": [
    "np.sin(np.pi / 2)"
   ]
  },
  {
   "cell_type": "markdown",
   "metadata": {},
   "source": [
    "Note that we didn't need to `import` `numpy` again; we only need to do so once per interactive IPython session.\n",
    "\n",
    "`numpy`'s `log` function takes the natural logarithm by default:"
   ]
  },
  {
   "cell_type": "code",
   "execution_count": null,
   "metadata": {
    "collapsed": false
   },
   "outputs": [],
   "source": [
    "np.log(10)"
   ]
  },
  {
   "cell_type": "markdown",
   "metadata": {},
   "source": [
    "If you want to calculate a logarithm to base 10, you need to use the `np.log10` function."
   ]
  },
  {
   "cell_type": "markdown",
   "metadata": {},
   "source": [
    "#### Exercise\n",
    "\n",
    "As water flows thorugh a drinking water pipe under pressure it looses energy (pressure) due to friction at the pipe wall.  This can be quantified using the following equation (the [Swamee–Jain approximation of the Colebrook White formula](https://en.wikipedia.org/wiki/Darcy_friction_factor_formulae#Swamee.E2.80.93Jain_equation), but you don't need to know anything about this):\n",
    "\n",
    "$$f = 0.25 \\left(\\log_{10} \\left(\\frac{k_s}{3.7D} + \\frac{5.74}{\\mathrm{Re}^{0.9}}\\right)\\right)^{-2}$$"
   ]
  },
  {
   "cell_type": "markdown",
   "metadata": {},
   "source": [
    "Replace '`____`' below with some Python that calculates a value for $f$ (the *'friction factor'*) using \n",
    "\n",
    "* $D = 0.075$ (the pipe diameter in metres)\n",
    "* $k_s = 0.005$ (the pipe wall 'roughness' in metres)\n",
    "* $Re = 4000$ (the 'Reynolds number' - a measure of the amount of turbulence)\n",
    "\n",
    "See the course **Introduction** section for more information on `assert`ing that you've got the correct answer to an exercise.  Also, **if you get stuck** then follow the link above regarding Python's *order of operations* to check that you know which operations will be done first and where you might need parentheses."
   ]
  },
  {
   "cell_type": "code",
   "execution_count": null,
   "metadata": {
    "collapsed": false
   },
   "outputs": [],
   "source": [
    "assert_almost_equal(____, 0.08948259, decimal=6)"
   ]
  },
  {
   "cell_type": "markdown",
   "metadata": {},
   "source": [
    "## Functions with named and optional arguments\n",
    "\n",
    "The functions we have seen so far only take one argument but others take two or more arguments. For example, you can round a decimal number to zero decimal places like so:"
   ]
  },
  {
   "cell_type": "code",
   "execution_count": null,
   "metadata": {
    "collapsed": false
   },
   "outputs": [],
   "source": [
    "round(1.23456)"
   ]
  },
  {
   "cell_type": "markdown",
   "metadata": {},
   "source": [
    "Alternatively you can round to a different number of decimal places by supplying a second argument when calling the `round` function.  Arguments are separated by commas."
   ]
  },
  {
   "cell_type": "code",
   "execution_count": null,
   "metadata": {
    "collapsed": false
   },
   "outputs": [],
   "source": [
    "round(1.23456, ndigits=3)"
   ]
  },
  {
   "cell_type": "markdown",
   "metadata": {},
   "source": [
    "This shows another feature of Python functions: **named arguments**.\n",
    "\n",
    "Here, the function is calle using *two arguments*, with the second being associated with the `ndigits` **parameter**.  A parameter is (in simple terms) the **name of a function input** (e.g. the name `ndigits`), whereas an argument is the **value** sent to the function (e.g. the number `3`).  \n",
    "\n",
    "Since the second argument to `round` is, by design, always the number of decimals you could have simply executed"
   ]
  },
  {
   "cell_type": "code",
   "execution_count": null,
   "metadata": {
    "collapsed": false
   },
   "outputs": [],
   "source": [
    "round(1.23456, 3)"
   ]
  },
  {
   "cell_type": "markdown",
   "metadata": {},
   "source": [
    "but the named argument version is more readable.  Also, note that a value does not always need to be given for `ndigits` as it has a default value of `0`."
   ]
  },
  {
   "cell_type": "markdown",
   "metadata": {},
   "source": [
    "## Getting help\n",
    "\n",
    "Built in to Python itself and the packages you `import` is a large amount of documentation that you can call on any time.\n",
    "\n",
    "Firstly, if you forget the names and order of the `round` function's arguments you can ask Jupyter+IPython to display information about the function in a separate pane by calling the function with `?` instead of parentheses:"
   ]
  },
  {
   "cell_type": "code",
   "execution_count": null,
   "metadata": {
    "collapsed": false
   },
   "outputs": [],
   "source": [
    "round?"
   ]
  },
  {
   "cell_type": "markdown",
   "metadata": {},
   "source": [
    "Secondly, you can see a more **terse pop-up summary** of a function by placing the cursor within `round` then press < Shift >< Tab >  **Try this**\n",
    "\n",
    "Thirdly, if you forget the name of a function or how to spell it you can type part of the name then press < tab > to **autocomplete** it (functionality sometimes known as **tab completion**).\n",
    "\n",
    "For example, if you can't remember whether the `numpy` function for randomly generating a number is called `random` or `rand`, try typing `np.ran` then press < tab >.\n"
   ]
  },
  {
   "cell_type": "code",
   "execution_count": null,
   "metadata": {
    "collapsed": false
   },
   "outputs": [],
   "source": [
    "np.ran"
   ]
  },
  {
   "cell_type": "markdown",
   "metadata": {},
   "source": [
    "In this case the function name is not immediately autocompleted as the entered characters are ambiguous: two functions start with `ran`.  Select the one you want from the drop-down menu that appears after pressing < tab >\n",
    "\n",
    "Fourthly, see the **Help** menu at the top of the Jupyter interface for links to the full reference documentation for Python, numpy and several other popular Python data science packages."
   ]
  },
  {
   "cell_type": "markdown",
   "metadata": {},
   "source": [
    "## Variables\n",
    "\n",
    "We'll rarely want to perform a calculation and throw away the result. \n",
    "It is much more likely that we'll want to store the result in Python's memory for later use, \n",
    "either as part of future calculations or ready for export to external files.\n",
    "\n",
    "We do this by **assigning** the results of calculations to **variables**.  For example:"
   ]
  },
  {
   "cell_type": "code",
   "execution_count": null,
   "metadata": {
    "collapsed": false
   },
   "outputs": [],
   "source": [
    "a = np.sin(1)\n",
    "b = 10\n",
    "c = a + b\n",
    "c = c / 2\n",
    "c"
   ]
  },
  {
   "cell_type": "markdown",
   "metadata": {},
   "source": [
    "In the above, we created three variables called `a`, `b` and `c`.  With each line (starting with the first), the expression on the *right-hand side* of the `=` sign is evaluated (by calling functions and/or performing arithmetic to generate a single value), then the result is **assigned** to the variable on the left-hand side.  \n",
    "\n",
    "After assigning a value to a variable, the variable can be \n",
    " \n",
    "* used when evaluating subsequent expressions;\n",
    "* updated/reassigned to new values."
   ]
  },
  {
   "cell_type": "markdown",
   "metadata": {},
   "source": [
    "You can list the names of the variables that currently exist in this interactive IPython session using:"
   ]
  },
  {
   "cell_type": "code",
   "execution_count": null,
   "metadata": {
    "collapsed": false
   },
   "outputs": [],
   "source": [
    "%who"
   ]
  },
  {
   "cell_type": "markdown",
   "metadata": {},
   "source": [
    "Some of these are variables you have created; others are variables that were created in the [Notebook setup cell above](#Lesson-setup-code).\n",
    "\n",
    "To see the value of any given variable, just execute a Notebook cell where the last line is just the variable name:"
   ]
  },
  {
   "cell_type": "code",
   "execution_count": null,
   "metadata": {
    "collapsed": false
   },
   "outputs": [],
   "source": [
    "c = c + 5\n",
    "c"
   ]
  },
  {
   "cell_type": "markdown",
   "metadata": {},
   "source": [
    "You can also view a summary of the names **and values** of all variables currently defined in your interactive IPython session using:"
   ]
  },
  {
   "cell_type": "code",
   "execution_count": null,
   "metadata": {
    "collapsed": false
   },
   "outputs": [],
   "source": [
    "%whos"
   ]
  },
  {
   "cell_type": "markdown",
   "metadata": {},
   "source": [
    "The middle column above shows the **data type** of each variable.  This **denotes (and limits) the operations that can be applied to a given variable** (such as `c`) **or a literal value** (such as the number `1.23456`).  The data types you will most frequently encounter include:\n",
    "\n",
    "* `int`: integers a.k.a. whole numbers e.g. `6`\n",
    "* `float`: decimal numbers e.g `6.3`.  You will also encounter `float64` and possibly `float32` (both provided by the `numpy` package)\n",
    "* `str`: strings of characters e.g. `\"Subject A\"` or `'Sheffield, S1 3JD'`\n",
    "* `bool`: a [boolean](https://en.wikipedia.org/wiki/Boolean_data_type) value i.e. `True` or `False`\n",
    "\n",
    "We will revisit the idea of data types at a later stage."
   ]
  },
  {
   "cell_type": "markdown",
   "metadata": {},
   "source": [
    "Now, suppose that after defining a variable we now want to remove it from Python's memory.  We need execute a `del` statement e.g."
   ]
  },
  {
   "cell_type": "code",
   "execution_count": null,
   "metadata": {
    "collapsed": false
   },
   "outputs": [],
   "source": [
    "del c"
   ]
  },
  {
   "cell_type": "markdown",
   "metadata": {},
   "source": [
    "**Action**: list all currently-defined variables to prove that `c` no longer exists."
   ]
  },
  {
   "cell_type": "markdown",
   "metadata": {},
   "source": [
    "If we want to delete **all** currently-defined variables in an IPython session we can select *Kernel* -> *Restart* from the Jupyter Notebook menu bar or altenatively run a cell that contains:"
   ]
  },
  {
   "cell_type": "code",
   "execution_count": null,
   "metadata": {
    "collapsed": false,
    "scrolled": false
   },
   "outputs": [],
   "source": [
    "%reset"
   ]
  },
  {
   "cell_type": "markdown",
   "metadata": {},
   "source": [
    "---"
   ]
  },
  {
   "cell_type": "markdown",
   "metadata": {
    "collapsed": false
   },
   "source": [
    "## End of Lesson 01: First steps\n",
    "\n",
    "#### TODO: YOU SHOULD HAVE COVERED...\n",
    "\n",
    "Please now move on to [Lesson 02](./02-numpy_basics.ipynb), where we'll be looking at how we can load, manipulate and analyse some tabular data (from a weather station in Sheffield)."
   ]
  }
 ],
 "metadata": {
  "kernelspec": {
   "display_name": "Python 3",
   "language": "python",
   "name": "python3"
  },
  "language_info": {
   "codemirror_mode": {
    "name": "ipython",
    "version": 3
   },
   "file_extension": ".py",
   "mimetype": "text/x-python",
   "name": "python",
   "nbconvert_exporter": "python",
   "pygments_lexer": "ipython3",
   "version": "3.5.2"
  }
 },
 "nbformat": 4,
 "nbformat_minor": 0
}
