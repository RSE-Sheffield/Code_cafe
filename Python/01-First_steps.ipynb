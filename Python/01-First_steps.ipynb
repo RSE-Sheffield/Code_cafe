{
 "cells": [
  {
   "cell_type": "markdown",
   "metadata": {},
   "source": [
    "# Introduction to Python for Data science: First steps\n",
    "\n",
    "This is designed to be a self-directed study session where you work through the material at your own pace. If you are at a Code Cafe event, instructors will be on hand to help you.\n",
    "\n",
    "If you haven't done so already please read through the **[Introduction](./00-Introduction.ipynb)** to this course, which covers:\n",
    "\n",
    "1. **what Python is** and **why it is of interest**;\n",
    "1. **learning outcomes** for the course; \n",
    "1. the course **structure** and **support facilities**;\n",
    "1. an introduction to **Jupyter Notebooks**;\n",
    "1. information on course **exercises**.\n",
    "\n",
    "It will be useful to keep the **Introduction** material open in a separate tab whilst working on this session."
   ]
  },
  {
   "cell_type": "markdown",
   "metadata": {},
   "source": [
    "## Lesson setup code\n",
    "\n",
    "Run the following Notebook cell *every time* you load this lesson (*but do not edit it*).\n",
    "\n",
    "**TODO: ENSURE NUMPY ALREADY INSTALLED AND AVAILABLE BY THIS POINT**"
   ]
  },
  {
   "cell_type": "code",
   "execution_count": 188,
   "metadata": {
    "collapsed": true
   },
   "outputs": [],
   "source": [
    "__ = 0\n",
    "import numpy as np\n",
    "from numpy.testing import assert_almost_equal, assert_array_equal"
   ]
  },
  {
   "cell_type": "markdown",
   "metadata": {},
   "source": [
    "## Simple commands and calculations\n",
    "\n",
    "Python is a command based system which means that you (usually) interact with it by entering commands rather than using a Graphical User Interface (GUI). Some of these commands are rather straightforward! For example, Python can be used to do arithmetic:"
   ]
  },
  {
   "cell_type": "code",
   "execution_count": 2,
   "metadata": {
    "collapsed": false
   },
   "outputs": [
    {
     "data": {
      "text/plain": [
       "2"
      ]
     },
     "execution_count": 2,
     "metadata": {},
     "output_type": "execute_result"
    }
   ],
   "source": [
    "1 + 1"
   ]
  },
  {
   "cell_type": "code",
   "execution_count": 3,
   "metadata": {
    "collapsed": false
   },
   "outputs": [
    {
     "data": {
      "text/plain": [
       "27"
      ]
     },
     "execution_count": 3,
     "metadata": {},
     "output_type": "execute_result"
    }
   ],
   "source": [
    "3 * 9"
   ]
  },
  {
   "cell_type": "code",
   "execution_count": 4,
   "metadata": {
    "collapsed": false
   },
   "outputs": [
    {
     "data": {
      "text/plain": [
       "3.1416666666666666"
      ]
     },
     "execution_count": 4,
     "metadata": {},
     "output_type": "execute_result"
    }
   ],
   "source": [
    "377 / 120"
   ]
  },
  {
   "cell_type": "markdown",
   "metadata": {},
   "source": [
    "Power terms can be expressed using the `**` *operator*.  For example, $2^8$ can be evaluated using:"
   ]
  },
  {
   "cell_type": "code",
   "execution_count": 5,
   "metadata": {
    "collapsed": false
   },
   "outputs": [
    {
     "data": {
      "text/plain": [
       "256"
      ]
     },
     "execution_count": 5,
     "metadata": {},
     "output_type": "execute_result"
    }
   ],
   "source": [
    "2 ** 8"
   ]
  },
  {
   "cell_type": "markdown",
   "metadata": {},
   "source": [
    "For more complex expressions the order of operations is as described [here](https://en.wikipedia.org/wiki/Order_of_operations#Definition) but parentheses can be used to override that order e.g."
   ]
  },
  {
   "cell_type": "code",
   "execution_count": 2,
   "metadata": {
    "collapsed": false
   },
   "outputs": [
    {
     "data": {
      "text/plain": [
       "690.9"
      ]
     },
     "execution_count": 2,
     "metadata": {},
     "output_type": "execute_result"
    }
   ],
   "source": [
    "2.1 * (8 + 24.9) / 0.1"
   ]
  },
  {
   "cell_type": "markdown",
   "metadata": {},
   "source": [
    "As you can see, support for basic arithmetic is built into Python itself but for other operations such as *sin*, *cos* and *log* we need to **import functions** for performing these operations from a Python **package**. A package is a collection of useful bits of code that we can reuse in many different programs.  Some packages come with Python itself, whilst others must be installed separately. \n",
    "\n",
    "**TODO: DUPLICATE OF IMPORT IN SETUP CELL**\n",
    "\n",
    "Here we **import** the `numpy` package (giving it a concise alias of `np`) and use a **function** provided by the package to calculate the square root of `2`:"
   ]
  },
  {
   "cell_type": "code",
   "execution_count": 15,
   "metadata": {
    "collapsed": false
   },
   "outputs": [
    {
     "data": {
      "text/plain": [
       "1.4142135623730951"
      ]
     },
     "execution_count": 15,
     "metadata": {},
     "output_type": "execute_result"
    }
   ],
   "source": [
    "import numpy as np\n",
    "\n",
    "np.sqrt(2)"
   ]
  },
  {
   "cell_type": "markdown",
   "metadata": {},
   "source": [
    "This is the first time we've entered a **function** in Python so let's discuss some details. In the above, \n",
    "\n",
    "* the **function name** is `sqrt`, \n",
    "* the function is from the `numpy` package (here aliased as `np`) and\n",
    "* the **function argument** is 2. In Python, all function arguments are enclosed in parentheses `()`.  \n",
    "\n",
    "Note that a function **call** is when a function is **evaluated** using specified arguments i.e. we are *calling* `sqrt` with an *argument* of 2.  You "
   ]
  },
  {
   "cell_type": "markdown",
   "metadata": {},
   "source": [
    "Python is **case sensitive**. For example, the correct command for square root is `sqrt(2)` with everything in lower case. Variations such as `Sqrt(2)` or `SQRT(2)` won't work (**try it!**)."
   ]
  },
  {
   "cell_type": "markdown",
   "metadata": {},
   "source": [
    "The `numpy` package also provides the standard trigonometric functions such as `sin`, `cos` and `tan`. These take their arguments in radians rather than degrees. As such, a right angle is  `pi/2` rather than 90. "
   ]
  },
  {
   "cell_type": "code",
   "execution_count": 7,
   "metadata": {
    "collapsed": false
   },
   "outputs": [
    {
     "data": {
      "text/plain": [
       "1.0"
      ]
     },
     "execution_count": 7,
     "metadata": {},
     "output_type": "execute_result"
    }
   ],
   "source": [
    "np.sin(np.pi / 2)"
   ]
  },
  {
   "cell_type": "markdown",
   "metadata": {},
   "source": [
    "Note that we didn't need to `import` `numpy` again; we only need to do so once per interactive IPython session.\n",
    "\n",
    "`numpy`'s `log` function takes the natural logarithm by default:"
   ]
  },
  {
   "cell_type": "code",
   "execution_count": 20,
   "metadata": {
    "collapsed": false
   },
   "outputs": [
    {
     "data": {
      "text/plain": [
       "2.3025850929940459"
      ]
     },
     "execution_count": 20,
     "metadata": {},
     "output_type": "execute_result"
    }
   ],
   "source": [
    "np.log(10)"
   ]
  },
  {
   "cell_type": "markdown",
   "metadata": {},
   "source": [
    "If you want to calculate a logarithm to base 10, you need to use the `np.log10` function."
   ]
  },
  {
   "cell_type": "markdown",
   "metadata": {},
   "source": [
    "#### Exercise\n",
    "\n",
    "As water flows thorugh a drinking water pipe under pressure it looses energy (pressure) due to friction at the pipe wall.  This can be quantified using the following equation (the [Swamee–Jain approximation of the Colebrook White formula](https://en.wikipedia.org/wiki/Darcy_friction_factor_formulae#Swamee.E2.80.93Jain_equation), but you don't need to know anything about this):\n",
    "\n",
    "$$f = 0.25 \\left(\\log_{10} \\left(\\frac{k_s}{3.7D} + \\frac{5.74}{\\mathrm{Re}^{0.9}}\\right)\\right)^{-2}$$"
   ]
  },
  {
   "cell_type": "markdown",
   "metadata": {},
   "source": [
    "Replace '`__`' below with some Python that calculates a value for $f$ (the *'friction factor'*) using \n",
    "\n",
    "* $D = 0.075$ (the pipe diameter in metres)\n",
    "* $k_s = 0.005$ (the pipe wall 'roughness' in metres)\n",
    "* $Re = 4000$ (the 'Reynolds number' - a measure of the amount of turbulence)\n",
    "\n",
    "See the course *Introduction* section for more information on `assert`ing that you've got the correct answer to an exercise.  Also, **if you get stuck** then follow the link above regarding Python's *order of operations* to check that you know which operations will be done first and where you might need brackets."
   ]
  },
  {
   "cell_type": "code",
   "execution_count": 187,
   "metadata": {
    "collapsed": false
   },
   "outputs": [
    {
     "ename": "AssertionError",
     "evalue": "\nArrays are not almost equal to 6 decimals\n ACTUAL: 0\n DESIRED: 0.08948259",
     "output_type": "error",
     "traceback": [
      "\u001b[0;31m---------------------------------------------------------------------------\u001b[0m",
      "\u001b[0;31mAssertionError\u001b[0m                            Traceback (most recent call last)",
      "\u001b[0;32m<ipython-input-187-38c39fbf46ff>\u001b[0m in \u001b[0;36m<module>\u001b[0;34m()\u001b[0m\n\u001b[1;32m      1\u001b[0m \u001b[0m__\u001b[0m \u001b[0;34m=\u001b[0m \u001b[0;36m0\u001b[0m\u001b[0;34m\u001b[0m\u001b[0m\n\u001b[0;32m----> 2\u001b[0;31m \u001b[0massert_almost_equal\u001b[0m\u001b[0;34m(\u001b[0m\u001b[0m__\u001b[0m\u001b[0;34m,\u001b[0m \u001b[0;36m0.08948259\u001b[0m\u001b[0;34m,\u001b[0m \u001b[0mdecimal\u001b[0m\u001b[0;34m=\u001b[0m\u001b[0;36m6\u001b[0m\u001b[0;34m)\u001b[0m\u001b[0;34m\u001b[0m\u001b[0m\n\u001b[0m",
      "\u001b[0;32m/home/will/miniconda3/envs/gulabgir/lib/python3.5/site-packages/numpy/testing/utils.py\u001b[0m in \u001b[0;36massert_almost_equal\u001b[0;34m(actual, desired, decimal, err_msg, verbose)\u001b[0m\n\u001b[1;32m    535\u001b[0m         \u001b[0;32mpass\u001b[0m\u001b[0;34m\u001b[0m\u001b[0m\n\u001b[1;32m    536\u001b[0m     \u001b[0;32mif\u001b[0m \u001b[0mround\u001b[0m\u001b[0;34m(\u001b[0m\u001b[0mabs\u001b[0m\u001b[0;34m(\u001b[0m\u001b[0mdesired\u001b[0m \u001b[0;34m-\u001b[0m \u001b[0mactual\u001b[0m\u001b[0;34m)\u001b[0m\u001b[0;34m,\u001b[0m \u001b[0mdecimal\u001b[0m\u001b[0;34m)\u001b[0m \u001b[0;34m!=\u001b[0m \u001b[0;36m0\u001b[0m\u001b[0;34m:\u001b[0m\u001b[0;34m\u001b[0m\u001b[0m\n\u001b[0;32m--> 537\u001b[0;31m         \u001b[0;32mraise\u001b[0m \u001b[0mAssertionError\u001b[0m\u001b[0;34m(\u001b[0m\u001b[0m_build_err_msg\u001b[0m\u001b[0;34m(\u001b[0m\u001b[0;34m)\u001b[0m\u001b[0;34m)\u001b[0m\u001b[0;34m\u001b[0m\u001b[0m\n\u001b[0m\u001b[1;32m    538\u001b[0m \u001b[0;34m\u001b[0m\u001b[0m\n\u001b[1;32m    539\u001b[0m \u001b[0;34m\u001b[0m\u001b[0m\n",
      "\u001b[0;31mAssertionError\u001b[0m: \nArrays are not almost equal to 6 decimals\n ACTUAL: 0\n DESIRED: 0.08948259"
     ]
    }
   ],
   "source": [
    "assert_almost_equal(__, 0.08948259, decimal=6)"
   ]
  },
  {
   "cell_type": "markdown",
   "metadata": {},
   "source": [
    "## Functions with named and optional arguments\n",
    "\n",
    "The functions we have seen so far only take one argument but others take two or more arguments. For example, you can round a decimal number to zero decimal places like so:"
   ]
  },
  {
   "cell_type": "code",
   "execution_count": 21,
   "metadata": {
    "collapsed": false
   },
   "outputs": [
    {
     "data": {
      "text/plain": [
       "1"
      ]
     },
     "execution_count": 21,
     "metadata": {},
     "output_type": "execute_result"
    }
   ],
   "source": [
    "round(1.23456)"
   ]
  },
  {
   "cell_type": "markdown",
   "metadata": {},
   "source": [
    "Alternatively you can round to a different number of decimal places by supplying a second argument when calling the `round` function.  Arguments are separated by commas."
   ]
  },
  {
   "cell_type": "code",
   "execution_count": 23,
   "metadata": {
    "collapsed": false
   },
   "outputs": [
    {
     "data": {
      "text/plain": [
       "1.235"
      ]
     },
     "execution_count": 23,
     "metadata": {},
     "output_type": "execute_result"
    }
   ],
   "source": [
    "round(1.23456, ndigits=3)"
   ]
  },
  {
   "cell_type": "markdown",
   "metadata": {},
   "source": [
    "This shows another feature of Python functions: **named arguments**.\n",
    "\n",
    "**Useful terminology**: you will hear the terms **argument** and **pararameter** used when talking about the inputs to functions.\n",
    "A parameter is (in simple terms) the **name of a function input** (e.g. the name `ndigits`),\n",
    "whereas an argument is the **value** sent to the function (e.g. the number `3`).  \n",
    "\n",
    "Here, the function is *called* using *two arguments*, with the second being associated with the `ndigits` parameter.\n",
    "\n",
    "Since the second argument to `round` is, by design, always the number of decimals you could have simply executed"
   ]
  },
  {
   "cell_type": "code",
   "execution_count": 11,
   "metadata": {
    "collapsed": false
   },
   "outputs": [
    {
     "data": {
      "text/plain": [
       "1.2350000000000001"
      ]
     },
     "execution_count": 11,
     "metadata": {},
     "output_type": "execute_result"
    }
   ],
   "source": [
    "round(1.23456, 3)"
   ]
  },
  {
   "cell_type": "markdown",
   "metadata": {},
   "source": [
    "but the named argument version is more readable.  Also, note that a value does not always need to be given for `ndigits` as it has a default value of `0`."
   ]
  },
  {
   "cell_type": "markdown",
   "metadata": {},
   "source": [
    "## Getting help\n",
    "\n",
    "Built in to Python itself and the packages you `import` is a large amount of documentation that you can call on any time.\n",
    "For example, if you forget the names and order of the `round` function's arguments you can run the following in a Notebook to see information about the function in a pop-up window.\n",
    "**Try this yourself to see what help info is given**."
   ]
  },
  {
   "cell_type": "markdown",
   "metadata": {},
   "source": [
    "Alternatively you can move the cursor within `round` and press **Shift** then **Tab** to see a more terse summary of what the function does plus the names, order and (optionally) the default values of its *parameters*."
   ]
  },
  {
   "cell_type": "markdown",
   "metadata": {},
   "source": [
    "## Variables\n",
    "\n",
    "We'll rarely want to perform a calculation and throw away the result. \n",
    "It is much more likely that we'll want to store the result in Python's memory for later use, \n",
    "either as part of future calculations or ready for export to external files.\n",
    "\n",
    "We do this by **assigning** the results of calculations to **variables**.  For example:"
   ]
  },
  {
   "cell_type": "code",
   "execution_count": 33,
   "metadata": {
    "collapsed": false
   },
   "outputs": [],
   "source": [
    "a = np.sin(1)\n",
    "b = 10\n",
    "c = a + b\n",
    "c = c / 2"
   ]
  },
  {
   "cell_type": "markdown",
   "metadata": {},
   "source": [
    "In the above, we created three variables called `a`, `b` and `c`.  For each of the lines above (starting with the first), the expression on the right-hand side of the `=` sign is *evaluated* (by calling functions and/or performing arithmetic to generate a single value), then the result is *assigned* to the variable on the left-hand side.  \n",
    "\n",
    "After assigning a value to a variable, the variable can be used when evaluating subsequent expressions.  Also, note that you can assign a new value to an existing variable at any time."
   ]
  },
  {
   "cell_type": "markdown",
   "metadata": {},
   "source": [
    "You can list the names of the variables that currently exist in this interactive IPython session using:"
   ]
  },
  {
   "cell_type": "code",
   "execution_count": 34,
   "metadata": {
    "collapsed": false
   },
   "outputs": [
    {
     "name": "stdout",
     "output_type": "stream",
     "text": [
      "a\t assert_almost_equal\t b\t c\t np\t \n"
     ]
    }
   ],
   "source": [
    "%who"
   ]
  },
  {
   "cell_type": "markdown",
   "metadata": {},
   "source": [
    "Some of these are variables you have created; others are variables that were used to set up this lesson (e.g. `np` and `assert_almost_equal`).  \n",
    "\n",
    "To see the value of any given variable, just execute a Notebook cell where the last line is just the variable name:"
   ]
  },
  {
   "cell_type": "code",
   "execution_count": 35,
   "metadata": {
    "collapsed": false
   },
   "outputs": [
    {
     "data": {
      "text/plain": [
       "10.420735492403949"
      ]
     },
     "execution_count": 35,
     "metadata": {},
     "output_type": "execute_result"
    }
   ],
   "source": [
    "c = c + 5\n",
    "c"
   ]
  },
  {
   "cell_type": "markdown",
   "metadata": {},
   "source": [
    "You can also view a summary of the names **and values** of all variables currently defined in your interactive IPython session using:"
   ]
  },
  {
   "cell_type": "code",
   "execution_count": 36,
   "metadata": {
    "collapsed": false
   },
   "outputs": [
    {
     "name": "stdout",
     "output_type": "stream",
     "text": [
      "Variable              Type        Data/Info\n",
      "-------------------------------------------\n",
      "a                     float64     0.841470984808\n",
      "assert_almost_equal   function    <function assert_almost_equal at 0x7f7898011bf8>\n",
      "b                     int         10\n",
      "c                     float64     10.4207354924\n",
      "np                    module      <module 'numpy' from '/ho<...>kages/numpy/__init__.py'>\n"
     ]
    }
   ],
   "source": [
    "%whos"
   ]
  },
  {
   "cell_type": "markdown",
   "metadata": {},
   "source": [
    "The middle column above shows the **data type** of each variable.  This **denotes (and limits) the operations that can be applied to a given variable** (such as `c`) **or a literal value** (such as the number `1.23456`).  The data types you will most frequently encounter include:\n",
    "\n",
    "* `int`: integers a.k.a. whole numbers e.g. `6`\n",
    "* `float`: decimal numbers e.g `6.3`.  You will also encounter `float64` and possibly `float32` (both provided by the `numpy` package)\n",
    "* `str`: strings of characters e.g. `\"myPa55word!\"`\n",
    "* `bool`: a *boolean* value i.e. `True` or `False`\n",
    "\n",
    "We will revisit the idea of data types at a later stage."
   ]
  },
  {
   "cell_type": "markdown",
   "metadata": {},
   "source": [
    "Now, suppose that after defining a variable we now want to remove it from Python's memory.  We need execute a `del` statement e.g."
   ]
  },
  {
   "cell_type": "code",
   "execution_count": 37,
   "metadata": {
    "collapsed": true
   },
   "outputs": [],
   "source": [
    "del c"
   ]
  },
  {
   "cell_type": "markdown",
   "metadata": {},
   "source": [
    "**Action**: list all currently-defined variables to prove that `c` no longer exists."
   ]
  },
  {
   "cell_type": "markdown",
   "metadata": {},
   "source": [
    "If we want to delete **all** currently-defined variables in an IPython session we can select *Kernel* -> *Restart* from the Jupyter Notebook menu bar or altenatively run a cell that contains:"
   ]
  },
  {
   "cell_type": "code",
   "execution_count": 72,
   "metadata": {
    "collapsed": false
   },
   "outputs": [
    {
     "name": "stdout",
     "output_type": "stream",
     "text": [
      "Once deleted, variables cannot be recovered. Proceed (y/[n])? n\n",
      "Nothing done.\n"
     ]
    }
   ],
   "source": [
    "%reset"
   ]
  },
  {
   "cell_type": "markdown",
   "metadata": {},
   "source": [
    "## Loading data / `numpy` and `pandas`"
   ]
  },
  {
   "cell_type": "markdown",
   "metadata": {},
   "source": [
    "Let's now jump in to looking at using Python for exploring some real-world data.\n",
    "\n",
    "Other languages such as R come with example datasets to allow us to quickly begin experimenting with data analysis techniques and plotting tools.  This is not the case with Python.  However, this is not an issue as two of the most popular Python libraries used by data scientists for data manipulation come with functions for loading datasets from many different sources\n",
    "\n",
    "The [`pandas`](http://pandas.pydata.org/) package allows us to load (typically tabular) data from:\n",
    "\n",
    "* Excel spreadsheets\n",
    "* [Comma-separated value](https://en.wikipedia.org/wiki/Comma-separated_values) (CSV) files \n",
    "* [Relational databases](https://en.wikipedia.org/wiki/Relational_database) (e.g. [PostgreSQL](https://www.postgresql.org/about/)).\n",
    "* Several other formats\n",
    "\n",
    "The numpy package that you have already encountered allows us to load data from:\n",
    "\n",
    "* [Comma-separated value](https://en.wikipedia.org/wiki/Comma-separated_values) (CSV) files \n",
    "* Efficient binary-format files\n",
    "\n",
    "\n",
    "\n",
    "<!--We're going to load and explore [Fisher's Iris data](https://en.wikipedia.org/wiki/Iris_flower_data_set), which is often used to demonstrate statistical and [machine learning](https://en.wikipedia.org/wiki/Machine_learning) algorithms.\n",
    "\n",
    "<p class=\"n\"> TODO: Enough contextual info on dataset?</p>-->\n",
    "\n",
    "The functionality offered by `pandas` for loading data is far more powerful and flexible than that offered by `numpy` but we are going to start by exploring `numpy` as it is simpler and learning about `pandas` later on should then be easier."
   ]
  },
  {
   "cell_type": "markdown",
   "metadata": {},
   "source": [
    "The data we are going to load and explore to help us learn the basics of `numpy` is from a weather station that is situated very near the University on Devonshire Green in Sheffield.  See [this page](https://uk-air.defra.gov.uk/networks/site-info?site_id=SHDG) on the UK Department for Environment, Food and Rural Affairs' site for a map and photos of the site.  Many environmental parameters such as air quality, temperature and wind speed are recorded at this site on a regular basis."
   ]
  },
  {
   "cell_type": "markdown",
   "metadata": {},
   "source": [
    "We're wanting to load a table of historic data captured at this weather station.  The data is stored in  `Devonshire_Green_meteorological_data-preproc.csv` (within the `Weather_data` directory).  (*The associated metadata is in `Devonshire_Green_meteorological_metadata-preproc.json`; only provided for interest)*.\n",
    "\n",
    "Let's crudely print out the first four lines of the file.  You do not have to understand the following; it is just to show you the format of the file.  *However*, be aware that this does not load the data from the file in a meaningful way; it simply and dumbly prints out characters from the file until four entire lines have been read."
   ]
  },
  {
   "cell_type": "code",
   "execution_count": 136,
   "metadata": {
    "collapsed": false
   },
   "outputs": [
    {
     "name": "stdout",
     "output_type": "stream",
     "text": [
      "Year,Month,Day,Hour,Ozone,Nitric oxide,Nitrogen dioxide,Nitrogen oxides as nitrogen dioxide,PM10 particulate matter,Non-volatile PM10,Volatile PM10,PM2.5 particulate matter,Non-volatile PM2.5,Volatile PM2.5,Modelled Wind Direction,Modelled Wind Speed,Modelled Temperature\n",
      "\n",
      "2015,1,1,1,38.84963,9.07037,29.62208,43.52978,33.2,27.3,5.9,25.7,21.1,4.6,227.7,6.8,6.1\n",
      "\n",
      "2015,1,1,2,49.09422,1.59571,21.95741,24.404139999999998,29.7,22.2,7.5,18.7,15.3,3.4,226.1,6.1,6.8\n",
      "\n",
      "2015,1,1,3,48.09637,2.36207,17.913429999999998,21.53523,18.3,17.4,0.9,14.9,10.8,4.1,232.5,7.1,7.8\n",
      "\n"
     ]
    }
   ],
   "source": [
    "csv_filename = 'Weather_data/Devonshire_Green_meteorological_data-preproc.csv'\n",
    "\n",
    "with open(csv_filename, 'r') as csv_file:\n",
    "    for line_num, line in enumerate(csv_file):\n",
    "        if line_num >= 4: \n",
    "            break\n",
    "        print(line)"
   ]
  },
  {
   "cell_type": "markdown",
   "metadata": {},
   "source": [
    "You will see that \n",
    "\n",
    " * The first row of the file is column headings;\n",
    " * Subsequent rows contain a set of measurements taken at a specified time;\n",
    " * Columns are separated by commas;\n",
    " * There are the same number of headings/measurements on each line.\n",
    " \n",
    "Let's load that file in Python in a more sensible way using a `numpy` function:"
   ]
  },
  {
   "cell_type": "code",
   "execution_count": null,
   "metadata": {
    "collapsed": true
   },
   "outputs": [],
   "source": [
    "dev_green = np.genfromtxt(csv_filename, \n",
    "                          delimiter=',', skip_header=1)"
   ]
  },
  {
   "cell_type": "markdown",
   "metadata": {},
   "source": [
    "**Try explaining these two lines of code to yourself in terms of functions, arguments and assignments.  Also, what is the purpose of `delimiter`?  What is the purpose of `skip_header`?**  Don't worry if you cannot answer the second of those questions just yet and don't worry about exactly what `genfromtxt` does: that will become clear shortly.\n",
    "\n",
    "Note that here we have **split a single long statement over two lines** to make the code easier to read.  You can split a statement over multiple lines like this if you introduce line breaks between a pair of parentheses.  Alternatively, if you want to split a line outside of any parentheses you must include a backslash (\\\\) at the end of all but the last line to tell Python that the line is to be continued e.g."
   ]
  },
  {
   "cell_type": "code",
   "execution_count": 47,
   "metadata": {
    "collapsed": false
   },
   "outputs": [],
   "source": [
    "z = 45 + \\\n",
    "    36 + \\\n",
    "    27"
   ]
  },
  {
   "cell_type": "markdown",
   "metadata": {},
   "source": [
    "So, what is stored in the `dev_green` variable?  What have we created?  Let's ask IPython to generate a preview of it:"
   ]
  },
  {
   "cell_type": "code",
   "execution_count": 50,
   "metadata": {
    "collapsed": false
   },
   "outputs": [
    {
     "data": {
      "text/plain": [
       "array([[  2.01500000e+03,   1.00000000e+00,   1.00000000e+00, ...,\n",
       "          2.27700000e+02,   6.80000000e+00,   6.10000000e+00],\n",
       "       [  2.01500000e+03,   1.00000000e+00,   1.00000000e+00, ...,\n",
       "          2.26100000e+02,   6.10000000e+00,   6.80000000e+00],\n",
       "       [  2.01500000e+03,   1.00000000e+00,   1.00000000e+00, ...,\n",
       "          2.32500000e+02,   7.10000000e+00,   7.80000000e+00],\n",
       "       ..., \n",
       "       [  2.01500000e+03,   1.20000000e+01,   3.10000000e+01, ...,\n",
       "          2.65000000e+02,   4.80000000e+00,   4.70000000e+00],\n",
       "       [  2.01500000e+03,   1.20000000e+01,   3.10000000e+01, ...,\n",
       "          2.60400000e+02,   3.30000000e+00,   4.00000000e+00],\n",
       "       [  2.01500000e+03,   1.20000000e+01,   3.10000000e+01, ...,\n",
       "          2.41100000e+02,   2.40000000e+00,   3.10000000e+00]])"
      ]
     },
     "execution_count": 50,
     "metadata": {},
     "output_type": "execute_result"
    }
   ],
   "source": [
    "dev_green"
   ]
  },
  {
   "cell_type": "markdown",
   "metadata": {},
   "source": [
    "It's not a single number but a **matrix** of numbers, with many rows and columns.\n",
    "More formally, this is a `numpy` `ndarray`, this being an $n$-dimensional array of values.\n",
    "For us $n=2$ i.e. `dev_green` is a 2D matrix.\n",
    "The [ellipses](https://en.wikipedia.org/wiki/Ellipsis) are indicate that the matrix contains more rows and columns than shown in the preview.\n",
    "\n",
    "**How big is our dataset?** To see how many rows and columns `dev_green` has:"
   ]
  },
  {
   "cell_type": "code",
   "execution_count": 51,
   "metadata": {
    "collapsed": false
   },
   "outputs": [
    {
     "data": {
      "text/plain": [
       "(8760, 17)"
      ]
     },
     "execution_count": 51,
     "metadata": {},
     "output_type": "execute_result"
    }
   ],
   "source": [
    "np.shape(dev_green)"
   ]
  },
  {
   "cell_type": "markdown",
   "metadata": {},
   "source": [
    "The `shape` function has returned two numbers (packaged together in a simple *data structure* called `tuple`; these will be covered later on).\n",
    "\n",
    "* The first is the **number of rows** (in our case the number of distinct times at which measurements were taken\n",
    "* The second is the **number of columns** (in our case the number of columns required to represent the measurement time (4) plus the number of different measurements that could be taken at each moment in time (13).\n",
    "\n",
    "`ndarray`s **must therefore always be rectangular**.  Another requirement is that every element in a particular array must have the **same data type** e.g. every value must be an integer or every value must be a decimal."
   ]
  },
  {
   "cell_type": "markdown",
   "metadata": {},
   "source": [
    "# SOME TITLE: SLICING AND DICING?\n",
    "\n",
    "We can view both **single elements** and also **slices** of our `ndarray` using expressions that look like this:\n",
    "\n",
    "```python\n",
    "some_array[row_or_row_range, column_or_column_range]\n",
    "```\n",
    "\n",
    "How this works in practise should become clear after seing some examples.  To view just a single element:"
   ]
  },
  {
   "cell_type": "code",
   "execution_count": 83,
   "metadata": {
    "collapsed": false
   },
   "outputs": [
    {
     "data": {
      "text/plain": [
       "2015.0"
      ]
     },
     "execution_count": 83,
     "metadata": {},
     "output_type": "execute_result"
    }
   ],
   "source": [
    "dev_green[0, 0]"
   ]
  },
  {
   "cell_type": "markdown",
   "metadata": {},
   "source": [
    "Here we are extracting the value in the first row and first column of the `ndarray` i.e. the `ndarray` element with a **row index** of 0 and a **column index** of 0.  **Important**: Python, like many other programming languages, counts collections of values **starting from zero**, *not* one.  Therefore, we have a one-dimensional array with 100 elements then the last element has an index of 99."
   ]
  },
  {
   "cell_type": "markdown",
   "metadata": {},
   "source": [
    "#### Exercise\n",
    "\n",
    "What is the Modelled Wind Speed for the 418th measurement in the dataset?  "
   ]
  },
  {
   "cell_type": "code",
   "execution_count": 189,
   "metadata": {
    "collapsed": false
   },
   "outputs": [
    {
     "ename": "AssertionError",
     "evalue": "\nArrays are not almost equal to 6 decimals\n ACTUAL: 0\n DESIRED: 4.2",
     "output_type": "error",
     "traceback": [
      "\u001b[0;31m---------------------------------------------------------------------------\u001b[0m",
      "\u001b[0;31mAssertionError\u001b[0m                            Traceback (most recent call last)",
      "\u001b[0;32m<ipython-input-189-ec36669ce2d4>\u001b[0m in \u001b[0;36m<module>\u001b[0;34m()\u001b[0m\n\u001b[0;32m----> 1\u001b[0;31m \u001b[0massert_almost_equal\u001b[0m\u001b[0;34m(\u001b[0m\u001b[0m__\u001b[0m\u001b[0;34m,\u001b[0m \u001b[0;36m4.2\u001b[0m\u001b[0;34m,\u001b[0m \u001b[0mdecimal\u001b[0m\u001b[0;34m=\u001b[0m\u001b[0;36m6\u001b[0m\u001b[0;34m)\u001b[0m\u001b[0;34m\u001b[0m\u001b[0m\n\u001b[0m",
      "\u001b[0;32m/home/will/miniconda3/envs/gulabgir/lib/python3.5/site-packages/numpy/testing/utils.py\u001b[0m in \u001b[0;36massert_almost_equal\u001b[0;34m(actual, desired, decimal, err_msg, verbose)\u001b[0m\n\u001b[1;32m    535\u001b[0m         \u001b[0;32mpass\u001b[0m\u001b[0;34m\u001b[0m\u001b[0m\n\u001b[1;32m    536\u001b[0m     \u001b[0;32mif\u001b[0m \u001b[0mround\u001b[0m\u001b[0;34m(\u001b[0m\u001b[0mabs\u001b[0m\u001b[0;34m(\u001b[0m\u001b[0mdesired\u001b[0m \u001b[0;34m-\u001b[0m \u001b[0mactual\u001b[0m\u001b[0;34m)\u001b[0m\u001b[0;34m,\u001b[0m \u001b[0mdecimal\u001b[0m\u001b[0;34m)\u001b[0m \u001b[0;34m!=\u001b[0m \u001b[0;36m0\u001b[0m\u001b[0;34m:\u001b[0m\u001b[0;34m\u001b[0m\u001b[0m\n\u001b[0;32m--> 537\u001b[0;31m         \u001b[0;32mraise\u001b[0m \u001b[0mAssertionError\u001b[0m\u001b[0;34m(\u001b[0m\u001b[0m_build_err_msg\u001b[0m\u001b[0;34m(\u001b[0m\u001b[0;34m)\u001b[0m\u001b[0;34m)\u001b[0m\u001b[0;34m\u001b[0m\u001b[0m\n\u001b[0m\u001b[1;32m    538\u001b[0m \u001b[0;34m\u001b[0m\u001b[0m\n\u001b[1;32m    539\u001b[0m \u001b[0;34m\u001b[0m\u001b[0m\n",
      "\u001b[0;31mAssertionError\u001b[0m: \nArrays are not almost equal to 6 decimals\n ACTUAL: 0\n DESIRED: 4.2"
     ]
    }
   ],
   "source": [
    "assert_almost_equal(__, 4.2, decimal=6)"
   ]
  },
  {
   "cell_type": "markdown",
   "metadata": {},
   "source": [
    "To view an entire row, select all elements in a specific dimension using `:`.   Here is the earliest set of measurements in our dataset:"
   ]
  },
  {
   "cell_type": "code",
   "execution_count": 81,
   "metadata": {
    "collapsed": false
   },
   "outputs": [
    {
     "data": {
      "text/plain": [
       "array([  2.01500000e+03,   1.00000000e+00,   1.00000000e+00,\n",
       "         1.00000000e+00,   3.88496300e+01,   9.07037000e+00,\n",
       "         2.96220800e+01,   4.35297800e+01,   3.32000000e+01,\n",
       "         2.73000000e+01,   5.90000000e+00,   2.57000000e+01,\n",
       "         2.11000000e+01,   4.60000000e+00,   2.27700000e+02,\n",
       "         6.80000000e+00,   6.10000000e+00])"
      ]
     },
     "execution_count": 81,
     "metadata": {},
     "output_type": "execute_result"
    }
   ],
   "source": [
    "dev_green[0, :]"
   ]
  },
  {
   "cell_type": "markdown",
   "metadata": {},
   "source": [
    "The value returned by this indexing operation appears to be an `ndarray`.  Notice that numpy has displayed every value using [scientific notation](https://en.wikipedia.org/wiki/Scientific_notation).  We can disable this for values that can easily be displayed without scientific notation using `numpy`'s `set_printoptions` function:\n",
    "\n",
    "**TODO: EXPLAIN VIEWS VS COPY AND HOW TO CHECK W/ `arr[...].base is arr`**"
   ]
  },
  {
   "cell_type": "code",
   "execution_count": 82,
   "metadata": {
    "collapsed": false
   },
   "outputs": [
    {
     "data": {
      "text/plain": [
       "array([ 2015.     ,     1.     ,     1.     ,     1.     ,    38.84963,\n",
       "           9.07037,    29.62208,    43.52978,    33.2    ,    27.3    ,\n",
       "           5.9    ,    25.7    ,    21.1    ,     4.6    ,   227.7    ,\n",
       "           6.8    ,     6.1    ])"
      ]
     },
     "execution_count": 82,
     "metadata": {},
     "output_type": "execute_result"
    }
   ],
   "source": [
    "np.set_printoptions(suppress=True)\n",
    "dev_green[0, :]"
   ]
  },
  {
   "cell_type": "markdown",
   "metadata": {},
   "source": [
    "Returning to our **indexing** and slicing, we can extract the entire first column (the year each measurement was taken) using:"
   ]
  },
  {
   "cell_type": "code",
   "execution_count": 84,
   "metadata": {
    "collapsed": false
   },
   "outputs": [
    {
     "data": {
      "text/plain": [
       "array([ 2015.,  2015.,  2015., ...,  2015.,  2015.,  2015.])"
      ]
     },
     "execution_count": 84,
     "metadata": {},
     "output_type": "execute_result"
    }
   ],
   "source": [
    "dev_green[:, 0]"
   ]
  },
  {
   "cell_type": "markdown",
   "metadata": {},
   "source": [
    "(Ignore the fact that this column has been output as a row for now.)  **TODO: ENOUGH EXPLANATION?**\n",
    "\n",
    "We can confirm that this is an single column of the expected length using the `np.shape` function seen before:"
   ]
  },
  {
   "cell_type": "code",
   "execution_count": 85,
   "metadata": {
    "collapsed": false
   },
   "outputs": [
    {
     "data": {
      "text/plain": [
       "(8760,)"
      ]
     },
     "execution_count": 85,
     "metadata": {},
     "output_type": "execute_result"
    }
   ],
   "source": [
    "np.shape(dev_green[:, 0])"
   ]
  },
  {
   "cell_type": "markdown",
   "metadata": {},
   "source": [
    "We can also extract portions of our `ndarray` using **index ranges**.  For example, we can view the first five rows and first four columns of our dataset like this:"
   ]
  },
  {
   "cell_type": "code",
   "execution_count": 88,
   "metadata": {
    "collapsed": false
   },
   "outputs": [
    {
     "data": {
      "text/plain": [
       "array([[ 2015.,     1.,     1.,     1.],\n",
       "       [ 2015.,     1.,     1.,     2.],\n",
       "       [ 2015.,     1.,     1.,     3.],\n",
       "       [ 2015.,     1.,     1.,     4.],\n",
       "       [ 2015.,     1.,     1.,     5.]])"
      ]
     },
     "execution_count": 88,
     "metadata": {},
     "output_type": "execute_result"
    }
   ],
   "source": [
    "dev_green[0:5, 0:4]"
   ]
  },
  {
   "cell_type": "markdown",
   "metadata": {},
   "source": [
    "Here the notation `0:5` means a range from index `0` up to **but not including** index `5`.  If the first value in a range is `0` then it can be omitted:"
   ]
  },
  {
   "cell_type": "code",
   "execution_count": 103,
   "metadata": {
    "collapsed": false
   },
   "outputs": [],
   "source": [
    "assert_array_equal(dev_green[0:5, 0:4], dev_green[:5, :4])"
   ]
  },
  {
   "cell_type": "markdown",
   "metadata": {},
   "source": [
    "What if we want to view the last few rows or columns rather than the first few?\n",
    "One approach would be to use the dimensions returned by the `np.shape` function to calculate some index values then insert these between the square brackets.\n",
    "\n",
    "However there is a more concise way: an index of `-1` corresponds to the last element in a range, an index of `-2` to the second-to-last etc.  For example, the last column can be accessed using:"
   ]
  },
  {
   "cell_type": "code",
   "execution_count": 104,
   "metadata": {
    "collapsed": false
   },
   "outputs": [
    {
     "data": {
      "text/plain": [
       "array([ 6.1,  6.8,  7.8, ...,  4.7,  4. ,  3.1])"
      ]
     },
     "execution_count": 104,
     "metadata": {},
     "output_type": "execute_result"
    }
   ],
   "source": [
    "dev_green[:, -1]"
   ]
  },
  {
   "cell_type": "markdown",
   "metadata": {},
   "source": [
    "and the last five rows with:"
   ]
  },
  {
   "cell_type": "code",
   "execution_count": 106,
   "metadata": {
    "collapsed": false
   },
   "outputs": [
    {
     "data": {
      "text/plain": [
       "array([[ 2015.     ,    12.     ,    31.     ,    20.     ,    58.67358,\n",
       "            4.65399,    18.96196,    26.09798,    10.6    ,     7.5    ,\n",
       "            3.1    ,     6.7    ,     6.7    ,    -1.     ,   253.5    ,\n",
       "            6.8    ,     5.7    ],\n",
       "       [ 2015.     ,    12.     ,    31.     ,    21.     ,    54.18326,\n",
       "            4.05528,    20.18453,    26.40254,     7.8    ,     8.4    ,\n",
       "           -0.6    ,     1.8    ,     3.5    ,    -2.7    ,   258.8    ,\n",
       "            6.3    ,     5.3    ],\n",
       "       [ 2015.     ,    12.     ,    31.     ,    22.     ,    53.33508,\n",
       "            5.48469,    20.89263,    29.30237,    13.2    ,    12.7    ,\n",
       "            0.5    ,    10.2    ,    10.3    ,    -1.1    ,   265.     ,\n",
       "            4.8    ,     4.7    ],\n",
       "       [ 2015.     ,    12.     ,    31.     ,    23.     ,    32.43012,\n",
       "           14.26038,    42.8443 ,    64.70992,    17.5    ,    17.     ,\n",
       "            0.5    ,     8.7    ,    10.5    ,    -2.8    ,   260.4    ,\n",
       "            3.3    ,     4.     ],\n",
       "       [ 2015.     ,    12.     ,    31.     ,     0.     ,    29.53636,\n",
       "           14.0605 ,    45.135  ,    66.69413,    21.6    ,    19.9    ,\n",
       "            1.7    ,    12.6    ,    11.5    ,     0.1    ,   241.1    ,\n",
       "            2.4    ,     3.1    ]])"
      ]
     },
     "execution_count": 106,
     "metadata": {},
     "output_type": "execute_result"
    }
   ],
   "source": [
    "dev_green[-5:, :]"
   ]
  },
  {
   "cell_type": "markdown",
   "metadata": {},
   "source": [
    "Note that we did not use `dev_green[-5:-1, :]` as then we would have only have selected up to *but not including* the last element."
   ]
  },
  {
   "cell_type": "markdown",
   "metadata": {},
   "source": [
    "One final tip before we move on from slicing numpy arrays for now.\n",
    "The `a:b` range notation selects ranges of ajacent rows or columns.\n",
    "If we want to select rows or columns at other regular intervals then we use a range notation of the form `a:b:c` where `c` is our index increment between chosen elements. For example, to select the year, month, day and hour for only *even* rows in our dataset:"
   ]
  },
  {
   "cell_type": "code",
   "execution_count": 110,
   "metadata": {
    "collapsed": false
   },
   "outputs": [
    {
     "data": {
      "text/plain": [
       "array([[ 2015.,     1.,     1.,     1.],\n",
       "       [ 2015.,     1.,     1.,     3.],\n",
       "       [ 2015.,     1.,     1.,     5.],\n",
       "       ..., \n",
       "       [ 2015.,    12.,    31.,    19.],\n",
       "       [ 2015.,    12.,    31.,    21.],\n",
       "       [ 2015.,    12.,    31.,    23.]])"
      ]
     },
     "execution_count": 110,
     "metadata": {},
     "output_type": "execute_result"
    }
   ],
   "source": [
    "dev_green[::2, :4]"
   ]
  },
  {
   "cell_type": "markdown",
   "metadata": {},
   "source": [
    "whereas to select only odd rows in a certain index range:"
   ]
  },
  {
   "cell_type": "code",
   "execution_count": 113,
   "metadata": {
    "collapsed": false
   },
   "outputs": [
    {
     "data": {
      "text/plain": [
       "array([[ 2015.,     1.,     3.,     4.],\n",
       "       [ 2015.,     1.,     3.,     6.],\n",
       "       [ 2015.,     1.,     3.,     8.],\n",
       "       [ 2015.,     1.,     3.,    10.],\n",
       "       [ 2015.,     1.,     3.,    12.],\n",
       "       [ 2015.,     1.,     3.,    14.],\n",
       "       [ 2015.,     1.,     3.,    16.],\n",
       "       [ 2015.,     1.,     3.,    18.],\n",
       "       [ 2015.,     1.,     3.,    20.],\n",
       "       [ 2015.,     1.,     3.,    22.]])"
      ]
     },
     "execution_count": 113,
     "metadata": {},
     "output_type": "execute_result"
    }
   ],
   "source": [
    "dev_green[51:71:2, :4]"
   ]
  },
  {
   "cell_type": "markdown",
   "metadata": {},
   "source": [
    "# SOME SUBTITLE RE STATS AND MISSING DATA"
   ]
  },
  {
   "cell_type": "markdown",
   "metadata": {},
   "source": [
    "Now that we can extract different portions of our dataset we'd like to be able to calculate some summary statistics.  For example, the mean `Ozone` level over the first five measurement times is:"
   ]
  },
  {
   "cell_type": "code",
   "execution_count": 180,
   "metadata": {
    "collapsed": false
   },
   "outputs": [
    {
     "data": {
      "text/plain": [
       "46.915582000000001"
      ]
     },
     "execution_count": 180,
     "metadata": {},
     "output_type": "execute_result"
    }
   ],
   "source": [
    "np.mean(dev_green[:5, 4])"
   ]
  },
  {
   "cell_type": "markdown",
   "metadata": {},
   "source": [
    "However, we encounter a problem when we try to find the mean of *all* the values in the last column:"
   ]
  },
  {
   "cell_type": "code",
   "execution_count": 181,
   "metadata": {
    "collapsed": false
   },
   "outputs": [
    {
     "data": {
      "text/plain": [
       "nan"
      ]
     },
     "execution_count": 181,
     "metadata": {},
     "output_type": "execute_result"
    }
   ],
   "source": [
    "np.mean(dev_green[:, 4])"
   ]
  },
  {
   "cell_type": "markdown",
   "metadata": {},
   "source": [
    "What is this `nan` value that the `mean` function returned?  It is an abbreviation for **'not a number'** and serves two purposes.\n",
    "\n",
    "1. It is the value returned when an operation evaluates to something that **mathematical is undefined** (**test this** with `np.log(-1)`);\n",
    "1. It can also indicate **missing values** in a dataset (e.g. values corresponding to times when a sensor was not functioning correctly).\n",
    "\n",
    "If we look at our CSV file we can see it contains some lines where there are no values between our column delimiters (commas).\n",
    "Here's an example of a line with missing values\n",
    "(don't worry if you don't understand the code; just look at the output);\n",
    "these values are interpretted as `nan` when we read in the file using the `genfromtxt` function:"
   ]
  },
  {
   "cell_type": "code",
   "execution_count": 169,
   "metadata": {
    "collapsed": false
   },
   "outputs": [
    {
     "name": "stdout",
     "output_type": "stream",
     "text": [
      "2015,1,7,12,,,,,12.7,7.7,5.0,5.3,2.3,3.0,223.9,10.6,6.4\n",
      "\n"
     ]
    }
   ],
   "source": [
    "with open(csv_filename, 'r') as csv_file:\n",
    "    for line in csv_file:\n",
    "        if ',,' in line:\n",
    "            print(line)\n",
    "            break"
   ]
  },
  {
   "cell_type": "code",
   "execution_count": 184,
   "metadata": {
    "collapsed": false
   },
   "outputs": [
    {
     "data": {
      "text/plain": [
       "2208"
      ]
     },
     "execution_count": 184,
     "metadata": {},
     "output_type": "execute_result"
    }
   ],
   "source": [
    "# NEXT STEPS:\n",
    "# FIND AND COUNT NULLS FOR COLUMN OF INTEREST (OZONE)\n",
    "# FIND AND COUNT NON-NULLS\n",
    "# CONFIRM THAT NULLS + NON-NULLS = TOTAL ROWS\n",
    "# STATS WITHOUT NULLS\n",
    "# BOOLEAN INDEX TO ELIMINATE (INC SIMPLE EXAMPLE)\n",
    "\n",
    "np.sum(np.isnan(dev_green[:, 4]))"
   ]
  },
  {
   "cell_type": "markdown",
   "metadata": {},
   "source": [
    "# OLD BELOW"
   ]
  },
  {
   "cell_type": "code",
   "execution_count": 18,
   "metadata": {
    "collapsed": false
   },
   "outputs": [],
   "source": [
    "import pandas as pd\n",
    "\n",
    "df = pd.read_csv('../seaborn-data/iris.csv')"
   ]
  },
  {
   "cell_type": "markdown",
   "metadata": {},
   "source": [
    "Here we loaded the data from the CSV into a `pandas` **`DataFrame`**, which is a table of data plus a **label** for each row and column.\n",
    "\n",
    "How big is this dataset?"
   ]
  },
  {
   "cell_type": "code",
   "execution_count": 19,
   "metadata": {
    "collapsed": false
   },
   "outputs": [
    {
     "data": {
      "text/plain": [
       "(150, 5)"
      ]
     },
     "execution_count": 19,
     "metadata": {},
     "output_type": "execute_result"
    }
   ],
   "source": [
    "df.shape"
   ]
  },
  {
   "cell_type": "markdown",
   "metadata": {},
   "source": [
    "Given that it has 150 rows (and 5 columns) we might not want to view it all at once but instead might just want to see the first few rows:\n",
    "\n",
    "<p class=\"n\"> TODO: explain that here we have a method of a DataFrame, not a function of a package (although both are expressed in the form `foo.bar`)?</p>"
   ]
  },
  {
   "cell_type": "code",
   "execution_count": 20,
   "metadata": {
    "collapsed": false
   },
   "outputs": [
    {
     "data": {
      "text/html": [
       "<div>\n",
       "<table border=\"1\" class=\"dataframe\">\n",
       "  <thead>\n",
       "    <tr style=\"text-align: right;\">\n",
       "      <th></th>\n",
       "      <th>sepal_length</th>\n",
       "      <th>sepal_width</th>\n",
       "      <th>petal_length</th>\n",
       "      <th>petal_width</th>\n",
       "      <th>species</th>\n",
       "    </tr>\n",
       "  </thead>\n",
       "  <tbody>\n",
       "    <tr>\n",
       "      <th>0</th>\n",
       "      <td>5.1</td>\n",
       "      <td>3.5</td>\n",
       "      <td>1.4</td>\n",
       "      <td>0.2</td>\n",
       "      <td>setosa</td>\n",
       "    </tr>\n",
       "    <tr>\n",
       "      <th>1</th>\n",
       "      <td>4.9</td>\n",
       "      <td>3.0</td>\n",
       "      <td>1.4</td>\n",
       "      <td>0.2</td>\n",
       "      <td>setosa</td>\n",
       "    </tr>\n",
       "    <tr>\n",
       "      <th>2</th>\n",
       "      <td>4.7</td>\n",
       "      <td>3.2</td>\n",
       "      <td>1.3</td>\n",
       "      <td>0.2</td>\n",
       "      <td>setosa</td>\n",
       "    </tr>\n",
       "    <tr>\n",
       "      <th>3</th>\n",
       "      <td>4.6</td>\n",
       "      <td>3.1</td>\n",
       "      <td>1.5</td>\n",
       "      <td>0.2</td>\n",
       "      <td>setosa</td>\n",
       "    </tr>\n",
       "    <tr>\n",
       "      <th>4</th>\n",
       "      <td>5.0</td>\n",
       "      <td>3.6</td>\n",
       "      <td>1.4</td>\n",
       "      <td>0.2</td>\n",
       "      <td>setosa</td>\n",
       "    </tr>\n",
       "  </tbody>\n",
       "</table>\n",
       "</div>"
      ],
      "text/plain": [
       "   sepal_length  sepal_width  petal_length  petal_width species\n",
       "0           5.1          3.5           1.4          0.2  setosa\n",
       "1           4.9          3.0           1.4          0.2  setosa\n",
       "2           4.7          3.2           1.3          0.2  setosa\n",
       "3           4.6          3.1           1.5          0.2  setosa\n",
       "4           5.0          3.6           1.4          0.2  setosa"
      ]
     },
     "execution_count": 20,
     "metadata": {},
     "output_type": "execute_result"
    }
   ],
   "source": [
    "df.head()"
   ]
  },
  {
   "cell_type": "markdown",
   "metadata": {},
   "source": [
    "We now see that each row corresponds to a flower sample and each column to a flower attribute.  Note the names above each column and index values to the left of each row.  Here those index values were not present in the raw data but were automaticaly added when we imported the CSV file.\n",
    "\n",
    "<p class=\"n\">TODO: Discuss dtypes?<p>\n",
    "\n",
    "We might also want to view a statistical summary of the dataset to learn of the mean and variance of each flower attribute:"
   ]
  },
  {
   "cell_type": "code",
   "execution_count": 21,
   "metadata": {
    "collapsed": false
   },
   "outputs": [
    {
     "data": {
      "text/html": [
       "<div>\n",
       "<table border=\"1\" class=\"dataframe\">\n",
       "  <thead>\n",
       "    <tr style=\"text-align: right;\">\n",
       "      <th></th>\n",
       "      <th>sepal_length</th>\n",
       "      <th>sepal_width</th>\n",
       "      <th>petal_length</th>\n",
       "      <th>petal_width</th>\n",
       "    </tr>\n",
       "  </thead>\n",
       "  <tbody>\n",
       "    <tr>\n",
       "      <th>count</th>\n",
       "      <td>150.000000</td>\n",
       "      <td>150.000000</td>\n",
       "      <td>150.000000</td>\n",
       "      <td>150.000000</td>\n",
       "    </tr>\n",
       "    <tr>\n",
       "      <th>mean</th>\n",
       "      <td>5.843333</td>\n",
       "      <td>3.057333</td>\n",
       "      <td>3.758000</td>\n",
       "      <td>1.199333</td>\n",
       "    </tr>\n",
       "    <tr>\n",
       "      <th>std</th>\n",
       "      <td>0.828066</td>\n",
       "      <td>0.435866</td>\n",
       "      <td>1.765298</td>\n",
       "      <td>0.762238</td>\n",
       "    </tr>\n",
       "    <tr>\n",
       "      <th>min</th>\n",
       "      <td>4.300000</td>\n",
       "      <td>2.000000</td>\n",
       "      <td>1.000000</td>\n",
       "      <td>0.100000</td>\n",
       "    </tr>\n",
       "    <tr>\n",
       "      <th>25%</th>\n",
       "      <td>5.100000</td>\n",
       "      <td>2.800000</td>\n",
       "      <td>1.600000</td>\n",
       "      <td>0.300000</td>\n",
       "    </tr>\n",
       "    <tr>\n",
       "      <th>50%</th>\n",
       "      <td>5.800000</td>\n",
       "      <td>3.000000</td>\n",
       "      <td>4.350000</td>\n",
       "      <td>1.300000</td>\n",
       "    </tr>\n",
       "    <tr>\n",
       "      <th>75%</th>\n",
       "      <td>6.400000</td>\n",
       "      <td>3.300000</td>\n",
       "      <td>5.100000</td>\n",
       "      <td>1.800000</td>\n",
       "    </tr>\n",
       "    <tr>\n",
       "      <th>max</th>\n",
       "      <td>7.900000</td>\n",
       "      <td>4.400000</td>\n",
       "      <td>6.900000</td>\n",
       "      <td>2.500000</td>\n",
       "    </tr>\n",
       "  </tbody>\n",
       "</table>\n",
       "</div>"
      ],
      "text/plain": [
       "       sepal_length  sepal_width  petal_length  petal_width\n",
       "count    150.000000   150.000000    150.000000   150.000000\n",
       "mean       5.843333     3.057333      3.758000     1.199333\n",
       "std        0.828066     0.435866      1.765298     0.762238\n",
       "min        4.300000     2.000000      1.000000     0.100000\n",
       "25%        5.100000     2.800000      1.600000     0.300000\n",
       "50%        5.800000     3.000000      4.350000     1.300000\n",
       "75%        6.400000     3.300000      5.100000     1.800000\n",
       "max        7.900000     4.400000      6.900000     2.500000"
      ]
     },
     "execution_count": 21,
     "metadata": {},
     "output_type": "execute_result"
    }
   ],
   "source": [
    "df.describe()"
   ]
  },
  {
   "cell_type": "markdown",
   "metadata": {},
   "source": [
    "Here `std` is the standard deviation and `25%` `50%` and `75%` are [percentiles](https://en.wikipedia.org/wiki/Percentile) of the data.\n",
    "Also, note that the summary is only of the columns that contain numerical data.  \n",
    "\n"
   ]
  },
  {
   "cell_type": "markdown",
   "metadata": {},
   "source": [
    "If we want to extract just one column then we can wrap the column in single quotes and square brackets then append this to to the DataFrame name.  For example, we can calculate the median sepal length like this:"
   ]
  },
  {
   "cell_type": "code",
   "execution_count": 22,
   "metadata": {
    "collapsed": false
   },
   "outputs": [
    {
     "data": {
      "text/plain": [
       "5.8433333333333337"
      ]
     },
     "execution_count": 22,
     "metadata": {},
     "output_type": "execute_result"
    }
   ],
   "source": [
    "df['sepal_length'].mean()"
   ]
  },
  {
   "cell_type": "markdown",
   "metadata": {},
   "source": [
    "How many unique species do we have in our dataset?\n",
    "\n",
    "<p class=\"n\">TODO: here `unique` return a numpy array of objects - explain 'noisy' output from Notebook cell?</p>"
   ]
  },
  {
   "cell_type": "code",
   "execution_count": 23,
   "metadata": {
    "collapsed": false
   },
   "outputs": [
    {
     "data": {
      "text/plain": [
       "array(['setosa', 'versicolor', 'virginica'], dtype=object)"
      ]
     },
     "execution_count": 23,
     "metadata": {},
     "output_type": "execute_result"
    }
   ],
   "source": [
    "df['species'].unique()"
   ]
  },
  {
   "cell_type": "markdown",
   "metadata": {},
   "source": [
    "or more concisely:"
   ]
  },
  {
   "cell_type": "code",
   "execution_count": 114,
   "metadata": {
    "collapsed": false
   },
   "outputs": [
    {
     "ename": "NameError",
     "evalue": "name 'df' is not defined",
     "output_type": "error",
     "traceback": [
      "\u001b[0;31m---------------------------------------------------------------------------\u001b[0m",
      "\u001b[0;31mNameError\u001b[0m                                 Traceback (most recent call last)",
      "\u001b[0;32m<ipython-input-114-410cfe6de983>\u001b[0m in \u001b[0;36m<module>\u001b[0;34m()\u001b[0m\n\u001b[0;32m----> 1\u001b[0;31m \u001b[0mdf\u001b[0m\u001b[0;34m[\u001b[0m\u001b[0;34m'species'\u001b[0m\u001b[0;34m]\u001b[0m\u001b[0;34m.\u001b[0m\u001b[0mnunique\u001b[0m\u001b[0;34m(\u001b[0m\u001b[0;34m)\u001b[0m\u001b[0;34m\u001b[0m\u001b[0m\n\u001b[0m",
      "\u001b[0;31mNameError\u001b[0m: name 'df' is not defined"
     ]
    }
   ],
   "source": [
    "df['species'].nunique()"
   ]
  },
  {
   "cell_type": "markdown",
   "metadata": {},
   "source": [
    "## Plotting data\n",
    "\n",
    "<p class=\"n\">TODO: REWRITE SECTION</p>"
   ]
  },
  {
   "cell_type": "markdown",
   "metadata": {},
   "source": [
    "<p class=\"n\">TODO: DECIDE ON PLOTTING APPROACH</p>\n",
    "\n",
    "<p class=\"n\">1. INVOLVES LOOP + BLOCK (INDENTING), MULTIPLE ASSIGNMENT, GROUPBY.  +ve: FAIRLY COMPACT FORM.  AUTOMATIC TITLING AND AXIS LABELLING IS NICE.  -ve: POOR PREPARATION FOR PLOTTING USING NUMPY</p>"
   ]
  },
  {
   "cell_type": "code",
   "execution_count": 29,
   "metadata": {
    "collapsed": false
   },
   "outputs": [
    {
     "data": {
      "image/png": "[encoded data removed]",
      "text/plain": [
       "<matplotlib.figure.Figure at 0x7f3528d3cba8>"
      ]
     },
     "metadata": {},
     "output_type": "display_data"
    },
    {
     "data": {
      "image/png": "[encoded data removed]",
      "text/plain": [
       "<matplotlib.figure.Figure at 0x7f3528d3cc88>"
      ]
     },
     "metadata": {},
     "output_type": "display_data"
    },
    {
     "data": {
      "image/png": "[encoded data removed]",
      "text/plain": [
       "<matplotlib.figure.Figure at 0x7f3528ad58d0>"
      ]
     },
     "metadata": {},
     "output_type": "display_data"
    }
   ],
   "source": [
    "import matplotlib.pyplot as plt\n",
    "plt.style.use('ggplot')\n",
    "%matplotlib inline\n",
    "\n",
    "for species_name, species_specific_df in df.groupby('species'):\n",
    "    species_specific_df.plot(kind='scatter', x='petal_length', y='petal_width', \n",
    "                             title=species_name);"
   ]
  },
  {
   "cell_type": "markdown",
   "metadata": {},
   "source": [
    "<p class=\"n\">OR</p>\n",
    "\n",
    "<p class=\"n\">2. Involves manual figure creation and indexing by boolean series.  +ve: transferrable to plotting with numpy; -ve: more verbose and manual</p>\n",
    "\n",
    "<p class=\"n\">TODO: Point out that using comments here and note the value in documenting code</p>"
   ]
  },
  {
   "cell_type": "code",
   "execution_count": 112,
   "metadata": {
    "collapsed": false
   },
   "outputs": [
    {
     "data": {
      "image/png": "[encoded data removed]",
      "text/plain": [
       "<matplotlib.figure.Figure at 0x7f6fc84200b8>"
      ]
     },
     "metadata": {},
     "output_type": "display_data"
    },
    {
     "data": {
      "image/png": "[encoded data removed]",
      "text/plain": [
       "<matplotlib.figure.Figure at 0x7f6fc7a86cc0>"
      ]
     },
     "metadata": {},
     "output_type": "display_data"
    },
    {
     "data": {
      "image/png": "[encoded data removed]",
      "text/plain": [
       "<matplotlib.figure.Figure at 0x7f6fc7c6bda0>"
      ]
     },
     "metadata": {},
     "output_type": "display_data"
    }
   ],
   "source": [
    "# for each distinct species in our dataset\n",
    "for species in df['species'].unique():\n",
    "    # Isolate all samples of just that species and store the result in a new DataFrame\n",
    "    df_for_species = df[df['species'] == species]\n",
    "    \n",
    "    # Create a blank figure\n",
    "    plt.figure()\n",
    "    \n",
    "    # Create a scatter plot for petal length against width for the current species only\n",
    "    plt.scatter(df_for_species['petal_length'], df_for_species['petal_width'])\n",
    "    \n",
    "    # Add a species-specific title\n",
    "    plt.title(species)\n",
    "    \n",
    "    # Add x and y axis labels\n",
    "    plt.xlabel('Petal length')\n",
    "    plt.ylabel('Petal width')"
   ]
  },
  {
   "cell_type": "markdown",
   "metadata": {},
   "source": [
    "<p class=\"n\">or</p>\n",
    "\n",
    "<p class=\"n\">3. seaborn.  How pandas specific?  Better to get aquainted with matplotlib rather than mask away all the complexity?  Nice to have all data on one plot though</p>"
   ]
  },
  {
   "cell_type": "code",
   "execution_count": 46,
   "metadata": {
    "collapsed": false
   },
   "outputs": [
    {
     "data": {
      "image/png": "[encoded data removed]",
      "text/plain": [
       "<matplotlib.figure.Figure at 0x7f3528434198>"
      ]
     },
     "metadata": {},
     "output_type": "display_data"
    }
   ],
   "source": [
    "import seaborn as sns\n",
    "g = sns.FacetGrid(data=df, hue='species', size=6)\n",
    "g.map(plt.scatter, 'petal_width', 'petal_length')\n",
    "g.add_legend();"
   ]
  },
  {
   "cell_type": "markdown",
   "metadata": {},
   "source": [
    "<p class=\"n\">or</p>\n",
    "\n",
    "<p class=\"n\">4. Another approach with seaborn.  Same points apply</p>"
   ]
  },
  {
   "cell_type": "code",
   "execution_count": 48,
   "metadata": {
    "collapsed": false
   },
   "outputs": [
    {
     "data": {
      "image/png": "[encoded data removed]",
      "text/plain": [
       "<matplotlib.figure.Figure at 0x7f35283a7588>"
      ]
     },
     "metadata": {},
     "output_type": "display_data"
    }
   ],
   "source": [
    "import seaborn as sns\n",
    "sns.lmplot('petal_width', 'petal_length', data=df, hue='species', fit_reg=False, size=6);"
   ]
  },
  {
   "cell_type": "markdown",
   "metadata": {},
   "source": [
    "#### Exercise: Anscome's quartet\n",
    "\n",
    "Try summarising and plotting a different dataset using the commands you've learned.  The dataset to investigate is [Anscombe's quartet](https://en.wikipedia.org/wiki/Anscombe%27s_quartet), the data for which can be found in the CSV file `../seaborn-data/anscombe.csv`."
   ]
  },
  {
   "cell_type": "markdown",
   "metadata": {},
   "source": [
    "## Packages\n",
    "\n",
    "<p class=\"n\">TODO: REWRITE OR JUST REMOVE SECTION.</p>\n",
    "\n",
    "R has many functions built in but there are over [8000 freely available add-on packages](https://cran.r-project.org/web/packages/) that provide thousands more functions. Once you know the name of a package, you call install it very easily.\n",
    "\n",
    "For example, a package called [ggplot2](http://ggplot2.org/) is widely used to create high quality graphics.  To install ggplot2:\n",
    "\n",
    "    install.packages(\"ggplot2\")\n",
    "\n",
    "We make all of the `ggplot2` functions available to our R session with the `library` command\n",
    "\n",
    "    library(ggplot2)\n",
    "\n",
    "Among other things, this makes the [qplot](http://docs.ggplot2.org/0.9.3/qplot.html) function available to us. We can use this as an alternative to the basic `plot` command described above\n",
    "\n",
    "    qplot(iris$Petal.Length, iris$Petal.Width,col=iris$Species)\n",
    "\n",
    "Alternatively, we can save ourselves typing `iris$` a lot by telling `qplot` that the data we are referring to is the iris data\n",
    "\n",
    "    qplot(data=iris,Petal.Length, Petal.Width,col=Species)\n",
    "\n",
    "To get help about the functionality in the ggplot2 package:\n",
    "\n",
    "    help(package=ggplot2)"
   ]
  },
  {
   "cell_type": "markdown",
   "metadata": {},
   "source": [
    "**Exercise (Packages)**\n",
    "\n",
    "<p class=\"n\">TODO: REWRITE/REPLACE.  NB can't install new packages on SageMathCloud</p>\n",
    "\n",
    "A very popular R package is [MASS](https://cran.r-project.org/web/packages/MASS/index.html) which was created to support the book [Modern Applied Statistics with S](http://www.springer.com/gb/book/9780387954578). This contains many more classic data sets which can be used to develop your R skills.\n",
    "\n",
    "1. Install the MASS package on your machine.\n",
    "2. Explore the MASS package's documentation and find a dataset that interests you.\n",
    "3. Load the MASS library into your R session.\n",
    "4. Take a look at the dataset you chose in part (2) using what you've learned so far."
   ]
  },
  {
   "cell_type": "markdown",
   "metadata": {},
   "source": [
    "## The current working directory\n",
    "\n",
    "<p class=\"n\">TODO: REWRITE PARA.  MOVE / REMOVE IF HAVE ALREADY HAD TO IMPORT EXTERNAL DATASETS BY THIS POINT IN THE TUTORIAL?</p>\n",
    "\n",
    "Working with built-in datasets is great for practice but for real-life work its vital that you can import our own data.\n",
    "Before we do this, we must learn where Python is expecting to find your files.\n",
    "It does this using the concept of the **present working directory**. \n",
    "\n",
    "To see what the current working directory is, we can use a function from the `os` package (which is always distributed with Python):"
   ]
  },
  {
   "cell_type": "code",
   "execution_count": 83,
   "metadata": {
    "collapsed": false
   },
   "outputs": [
    {
     "data": {
      "text/plain": [
       "'/home/will/Dropbox/Teaching/Gulabgir/Code_cafe/Python/First_steps_with_Python'"
      ]
     },
     "execution_count": 83,
     "metadata": {},
     "output_type": "execute_result"
    }
   ],
   "source": [
    "import os\n",
    "\n",
    "os.getcwd()"
   ]
  },
  {
   "cell_type": "markdown",
   "metadata": {},
   "source": [
    "We can list the contents of the directory with:"
   ]
  },
  {
   "cell_type": "code",
   "execution_count": 85,
   "metadata": {
    "collapsed": false
   },
   "outputs": [
    {
     "data": {
      "text/plain": [
       "['notes_options_for_loading_datasets.md',\n",
       " 'assets',\n",
       " '.Rhistory',\n",
       " 'First_steps_in_Python.ipynb',\n",
       " '.ipynb_checkpoints']"
      ]
     },
     "execution_count": 85,
     "metadata": {},
     "output_type": "execute_result"
    }
   ],
   "source": [
    "os.listdir()"
   ]
  },
  {
   "cell_type": "markdown",
   "metadata": {},
   "source": [
    "You can create a new directory using the `mkdir` function:"
   ]
  },
  {
   "cell_type": "code",
   "execution_count": 90,
   "metadata": {
    "collapsed": false
   },
   "outputs": [
    {
     "data": {
      "text/plain": [
       "['mydata']"
      ]
     },
     "execution_count": 90,
     "metadata": {},
     "output_type": "execute_result"
    }
   ],
   "source": [
    "os.mkdir('mydata')\n",
    "os.listdir()"
   ]
  },
  {
   "cell_type": "markdown",
   "metadata": {},
   "source": [
    "Move into this new directory using the `chdir` function, then view its contents:"
   ]
  },
  {
   "cell_type": "code",
   "execution_count": 91,
   "metadata": {
    "collapsed": false
   },
   "outputs": [
    {
     "data": {
      "text/plain": [
       "[]"
      ]
     },
     "execution_count": 91,
     "metadata": {},
     "output_type": "execute_result"
    }
   ],
   "source": [
    "os.chdir('mydata')\n",
    "os.listdir()"
   ]
  },
  {
   "cell_type": "markdown",
   "metadata": {},
   "source": [
    "The current working directory is where Python is currently preferentially looking for files and also where it will put any files it creates unless you tell it otherwise."
   ]
  },
  {
   "cell_type": "markdown",
   "metadata": {},
   "source": [
    "## Importing your own data\n",
    "\n",
    "<p class=\"n\">TODO: REWRITE/MOVE/REMOVE SECTION.</p>\n",
    "\n",
    "In this section, you'll learn how to import data into Python from the common .csv (comma separated values) format.   <p class=\"n\">TODO: already introduced</p>\n",
    "\n",
    "Download the file [example_data.csv](https://raw.githubusercontent.com/mikecroucher/Code_cafe/master/First_steps_with_R/example_data.csv) to your current working directory. \n",
    "\n",
    "You can either do this manually, using your web browser, then run the following to load the data into a `pandas` DataFrame:"
   ]
  },
  {
   "cell_type": "code",
   "execution_count": 99,
   "metadata": {
    "collapsed": false
   },
   "outputs": [
    {
     "name": "stdout",
     "output_type": "stream",
     "text": [
      "Traceback (most recent call last):\n",
      "  File \"/home/will/miniconda3/envs/gulabgir/lib/python3.5/site-packages/IPython/core/interactiveshell.py\", line 2885, in run_code\n",
      "    exec(code_obj, self.user_global_ns, self.user_ns)\n",
      "  File \"<ipython-input-99-0d4baa9337b9>\", line 1, in <module>\n",
      "    example_data = pd.read_csv('example_data.csv')\n",
      "  File \"/home/will/miniconda3/envs/gulabgir/lib/python3.5/site-packages/pandas/io/parsers.py\", line 562, in parser_f\n",
      "    return _read(filepath_or_buffer, kwds)\n",
      "  File \"/home/will/miniconda3/envs/gulabgir/lib/python3.5/site-packages/pandas/io/parsers.py\", line 315, in _read\n",
      "    parser = TextFileReader(filepath_or_buffer, **kwds)\n",
      "  File \"/home/will/miniconda3/envs/gulabgir/lib/python3.5/site-packages/pandas/io/parsers.py\", line 645, in __init__\n",
      "    self._make_engine(self.engine)\n",
      "  File \"/home/will/miniconda3/envs/gulabgir/lib/python3.5/site-packages/pandas/io/parsers.py\", line 799, in _make_engine\n",
      "    self._engine = CParserWrapper(self.f, **self.options)\n",
      "  File \"/home/will/miniconda3/envs/gulabgir/lib/python3.5/site-packages/pandas/io/parsers.py\", line 1213, in __init__\n",
      "    self._reader = _parser.TextReader(src, **kwds)\n",
      "  File \"pandas/parser.pyx\", line 358, in pandas.parser.TextReader.__cinit__ (pandas/parser.c:3427)\n",
      "  File \"pandas/parser.pyx\", line 628, in pandas.parser.TextReader._setup_parser_source (pandas/parser.c:6861)\n",
      "OSError: File b'example_data.csv' does not exist\n",
      "\n",
      "During handling of the above exception, another exception occurred:\n",
      "\n",
      "Traceback (most recent call last):\n",
      "  File \"/home/will/miniconda3/envs/gulabgir/lib/python3.5/site-packages/IPython/core/interactiveshell.py\", line 1827, in showtraceback\n",
      "    stb = value._render_traceback_()\n",
      "AttributeError: 'OSError' object has no attribute '_render_traceback_'\n",
      "\n",
      "During handling of the above exception, another exception occurred:\n",
      "\n",
      "Traceback (most recent call last):\n",
      "  File \"/home/will/miniconda3/envs/gulabgir/lib/python3.5/site-packages/IPython/core/ultratb.py\", line 1120, in get_records\n",
      "    return _fixed_getinnerframes(etb, number_of_lines_of_context, tb_offset)\n",
      "  File \"/home/will/miniconda3/envs/gulabgir/lib/python3.5/site-packages/IPython/core/ultratb.py\", line 301, in wrapped\n",
      "    return f(*args, **kwargs)\n",
      "  File \"/home/will/miniconda3/envs/gulabgir/lib/python3.5/site-packages/IPython/core/ultratb.py\", line 346, in _fixed_getinnerframes\n",
      "    records = fix_frame_records_filenames(inspect.getinnerframes(etb, context))\n",
      "  File \"/home/will/miniconda3/envs/gulabgir/lib/python3.5/inspect.py\", line 1453, in getinnerframes\n",
      "    frameinfo = (tb.tb_frame,) + getframeinfo(tb, context)\n",
      "  File \"/home/will/miniconda3/envs/gulabgir/lib/python3.5/inspect.py\", line 1410, in getframeinfo\n",
      "    filename = getsourcefile(frame) or getfile(frame)\n",
      "  File \"/home/will/miniconda3/envs/gulabgir/lib/python3.5/inspect.py\", line 672, in getsourcefile\n",
      "    if getattr(getmodule(object, filename), '__loader__', None) is not None:\n",
      "  File \"/home/will/miniconda3/envs/gulabgir/lib/python3.5/inspect.py\", line 701, in getmodule\n",
      "    file = getabsfile(object, _filename)\n",
      "  File \"/home/will/miniconda3/envs/gulabgir/lib/python3.5/inspect.py\", line 685, in getabsfile\n",
      "    return os.path.normcase(os.path.abspath(_filename))\n",
      "  File \"/home/will/miniconda3/envs/gulabgir/lib/python3.5/posixpath.py\", line 361, in abspath\n",
      "    cwd = os.getcwd()\n",
      "FileNotFoundError: [Errno 2] No such file or directory\n"
     ]
    },
    {
     "name": "stderr",
     "output_type": "stream",
     "text": [
      "ERROR: Internal Python error in the inspect module.\n",
      "Below is the traceback from this internal error.\n",
      "\n",
      "\n",
      "Unfortunately, your original traceback can not be constructed.\n",
      "\n"
     ]
    },
    {
     "ename": "OSError",
     "evalue": "File b'example_data.csv' does not exist",
     "output_type": "error",
     "traceback": [
      "\u001b[1;31m---------------------------------------------------------------------------\u001b[0m"
     ]
    }
   ],
   "source": [
    "example_data = pd.read_csv('example_data.csv')"
   ]
  },
  {
   "cell_type": "markdown",
   "metadata": {},
   "source": [
    "Or you can supply a URL as the first argument to the `read_csv` function from `pandas` to download and instantiate a DataFrame in a single step:"
   ]
  },
  {
   "cell_type": "code",
   "execution_count": 100,
   "metadata": {
    "collapsed": false
   },
   "outputs": [],
   "source": [
    "example_data = pd.read_csv('https://raw.githubusercontent.com/mikecroucher/Code_cafe/master/First_steps_with_R/example_data.csv')"
   ]
  },
  {
   "cell_type": "markdown",
   "metadata": {},
   "source": [
    "#### Exercise: `example_data`\n",
    "\n",
    "* Show the first few lines of `example_data`\n",
    "* Create a plot of the `example_data`\n",
    "* Show summary statistics of `example_data`"
   ]
  },
  {
   "cell_type": "markdown",
   "metadata": {},
   "source": [
    "## Scripts\n",
    "\n",
    "<p class=\"n\">TODO: REWRITE SECTION</p>\n",
    "\n",
    "In the simplest terms, a script is just a text file containing a list of R commands. We can run this list in order with a single command called `source()`\n",
    "\n",
    "An alternative way to think of a script is as a **permanent, repeatable, annotated, shareable, cross-platform archive**<sup>1</sup> of your analysis! Everything required to repeat your analysis is available in a single place. The only extra required ingredient is a computer.\n",
    "\n",
    "For example, based on the article at [http://www.walkingrandomly.com/?p=5254](http://www.walkingrandomly.com/?p=5254), we have created a script called `best_fit.R` that finds the parameters `p1` and `p2` such that the curve `p1*cos(p2*xdata) + p2*sin(p1*xdata)` is a best fit for the `example_data` described earlier. The details of this are beyond the scope of this course but you can easily download and run this analysis yourself.\n",
    "\n",
    "    download.file('https://raw.githubusercontent.com/mikecroucher/Code_cafe/master/First_steps_with_R/best_fit.R',destfile='best_fit.R')\n",
    "    source('best_fit.R')\n",
    "\n",
    "By doing this, you have reproduced the analysis that we did. You are able to check and extend our results or apply the code to your own work. Making code and data publicly  available like this is the foundation of [Open Data Science](http://opendsi.cc/)"
   ]
  },
  {
   "cell_type": "markdown",
   "metadata": {},
   "source": [
    "## Further reading and next steps\n",
    "\n",
    "In this session, we told you how to import data from a file but not how to export it. The following link will teach you how to export to `.csv`. [Tutorial: Exporting an R data frame to a .csv file](http://www.walkingrandomly.com/?p=5979) <span class=\"n\">TODO: REMOVE/REPLACE</span> \n",
    "\n",
    "There are many resources online and in print for learning Python.  Here are some recommendations:\n",
    "\n",
    "* Data Carpentry's introductory [*Python for Ecologists*](http://www.datacarpentry.org/python-ecology-lesson/) tutorial, which provide an introduction to using Python for automating data analysis tasks.\n",
    "* Software Carpentry's [*Programming with Python*](http://swcarpentry.github.io/python-novice-inflammation/) tutorial, which follows on from the Data Carpentry course and offers **FINISH**\n",
    "* The [*Dive Into Python 3*](http://www.diveintopython3.net/) by Mark Pilgrim.  Freely available online under a [CC-BY-SA license](https://creativecommons.org/licenses/by-sa/3.0/) and also published as a book by Apress (2009, ISBN: 978-1430224150).  Provides a introduction to Python as a general purpose programming language.  Each chapter starts with a block of (initially unreadable) code that supposedly does something useful; this is then picked apart to introduce the reader to different aspects of the language and its core libraries.\n",
    "* The [*Python for Data Analysis*](http://shop.oreilly.com/product/0636920023784.do) book by Wes McKinney (O’Reilly Media, 2012, ISBN: 978-1-4493-1979-3).  Wes is the original author of [pandas](pandas.pydata.org/), one of the most popular and powerful Python libraries for manipulating tabular data; this book focusses on\n",
    "* The [*Learn Python the Hard Way*](http://learnpythonthehardway.org/) book by Zed Shaw (3rd ed, Addison Wesley, 2013, ISBN: 978-0321884916).  Another book on Python as a general purpose language.  Readers can view the book online before they buy. \n",
    "\n",
    "<p class=\"n\">TODO: PYTHON EQUIV OF SWIRL (`swirlypy`)?</p>\n",
    "<p class=\"n\">TODO: PROJECT EULER?</p>"
   ]
  },
  {
   "cell_type": "markdown",
   "metadata": {},
   "source": [
    "## Getting help\n",
    "\n",
    "<p class=\"n\">TODO: MERGE WITH EARLIER 'GETTING HELP SECTION'</p>\n",
    "\n",
    "* TAB COMPLETION IN JUPYTER (DOES NOT WORK ON INDEXED OBJECTS e.g. `my_list[0].<tab>` OR OBJECTS THAT HAVE NOT YET BEEN INSTANTIATED)\n",
    "* ONLINE DOCS (e.g. [for numpy](http://docs.scipy.org/doc/numpy/)) OR DOCS IN IDE\n",
    "* [STACK OVERFLOW](http://stackoverflow.com/questions/tagged/python)\n",
    "* MAIL LISTS: pydata, pystatsmodels, numpy, scipy, matplotlib\n",
    "* IRC\n",
    "* Sheffield Python group\n",
    "\n",
    "<p class=\"n\">TODO: FINISH</p>"
   ]
  },
  {
   "cell_type": "markdown",
   "metadata": {},
   "source": [
    "## References\n",
    "\n",
    "[1] [Getting Started with R - An Introduction for Biologists](https://global.oup.com/academic/product/getting-started-with-r-9780199601622?cc=gb&lang=en&). Authors: Beckerman and Petchey.  <p class=\"n\">TODO: remove/replace</p>"
   ]
  },
  {
   "cell_type": "code",
   "execution_count": null,
   "metadata": {
    "collapsed": true
   },
   "outputs": [],
   "source": []
  }
 ],
 "metadata": {
  "kernelspec": {
   "display_name": "Python 3",
   "language": "python",
   "name": "python3"
  },
  "language_info": {
   "codemirror_mode": {
    "name": "ipython",
    "version": 3
   },
   "file_extension": ".py",
   "mimetype": "text/x-python",
   "name": "python",
   "nbconvert_exporter": "python",
   "pygments_lexer": "ipython3",
   "version": "3.5.2"
  }
 },
 "nbformat": 4,
 "nbformat_minor": 0
}
